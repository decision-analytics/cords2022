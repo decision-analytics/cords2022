{
 "cells": [
  {
   "cell_type": "markdown",
   "metadata": {
    "slideshow": {
     "slide_type": "slide"
    }
   },
   "source": [
    "<img src=\"img/logo_wiwi_en_.png\" width=\"30%\" align=\"left\">\n",
    "\n",
    "<img src=\"img/decision_analytics_logo.png\" width=\"17%\" align=\"right\">\n",
    "\n",
    "\n",
    "\n",
    "<br><br><br><br><br><br><br><br>\n",
    "## Combining OR and Data Science\n",
    "**Summer Term 2022**\n",
    "\n",
    "\n",
    "# Refresher Tutorial 2: Machine Learning in Python (with scikit-learn)\n",
    "\n",
    "<br><br>\n",
    "#### J-Prof. Dr. Michael Römer, Till Porrmann \n",
    "#### Decision Analytics Group | Bielefeld University"
   ]
  },
  {
   "cell_type": "markdown",
   "metadata": {
    "slideshow": {
     "slide_type": "slide"
    }
   },
   "source": [
    "## What are we doing today?\n",
    "\n",
    "- Short overview over scikit-learn\n",
    "- To help you get started working with scikit-learn\n",
    "- Somewhere between general overview and what we need in CORDS\n",
    "- Abstract explanations followed by examples\n",
    "- Room for your questions"
   ]
  },
  {
   "cell_type": "markdown",
   "metadata": {
    "slideshow": {
     "slide_type": "fragment"
    }
   },
   "source": [
    "- What are your experiences?\n",
    "    - Pandas\n",
    "    - Machine Learning (theoretical)\n",
    "    - Scikit-learn"
   ]
  },
  {
   "cell_type": "markdown",
   "metadata": {
    "slideshow": {
     "slide_type": "slide"
    }
   },
   "source": [
    "## Overview\n",
    "\n",
    "- What is Machine Learning?\n",
    "- What is scikit-learn?\n",
    "- (Pandas)\n",
    "- Train-Test-Split\n",
    "- Model classes\n",
    "- Models\n",
    "- Methods\n",
    "- Solution quality\n",
    "- Cross-Validation"
   ]
  },
  {
   "cell_type": "markdown",
   "metadata": {
    "slideshow": {
     "slide_type": "slide"
    }
   },
   "source": [
    "## What is Machine Learning (ML)?\n",
    "\n",
    "<div class=\"alert alert-block alert-info\">\n",
    "<b>General idea:</b> Machine Learning models use known data to predict properties of unknown data</div>\n",
    "\n",
    "\n",
    "- Known data has attributes called features and labels\n",
    "- We \"learn\" with feature data (+labels)\n",
    "- After learning, our model is able to predict labels for unknown data with a similar structure"
   ]
  },
  {
   "cell_type": "markdown",
   "metadata": {
    "slideshow": {
     "slide_type": "slide"
    }
   },
   "source": [
    "## What is Machine Learning (ML)? - Example\n",
    "\n",
    "- We have a database of wines\n",
    "- One piece of data would be one wine\n",
    "- Our attributes could be things like age, alkohol, acid, price, taste (good or bad)...\n",
    "- We have a lot of data about wines we already know\n",
    "- For an unkonwn wine, we want to predict a certain attribute (e.g. will the taste be good or bad)"
   ]
  },
  {
   "cell_type": "markdown",
   "metadata": {
    "slideshow": {
     "slide_type": "slide"
    }
   },
   "source": [
    "## What is scikit-learn?\n",
    "*The magical tool box, that does most of the work for us.*\n",
    "\n",
    "- Python package for MachineLearning models\n",
    "- Used to run ML models with an easy interface\n",
    "- Models handled as a black box (more or less)\n",
    "\n",
    "\n",
    "- Works well with NumPy, Pandas and MatPlotLib\n",
    "- Capable of more (Dimensionality Reduction, Preprocessing,...)\n",
    "- Import with ```from sklearn.XX import YY```"
   ]
  },
  {
   "cell_type": "markdown",
   "metadata": {
    "slideshow": {
     "slide_type": "slide"
    }
   },
   "source": [
    "## Pandas\n",
    "\n",
    "- Package for working with data\n",
    "- ```import pandas as pd```\n",
    "- Data is often presented in a DataFrame\n",
    "- You can do a lot with the data, like filter, merge, find min/max, calculate means, group data, etc.\n",
    "- Pandas turorial on [YouTube](https://www.youtube.com/watch?v=vmEHCJofslg&ab_channel=KeithGalli)"
   ]
  },
  {
   "cell_type": "markdown",
   "metadata": {
    "slideshow": {
     "slide_type": "slide"
    }
   },
   "source": [
    "## Pandas - Example\n"
   ]
  },
  {
   "cell_type": "code",
   "execution_count": null,
   "metadata": {
    "slideshow": {
     "slide_type": "-"
    }
   },
   "outputs": [],
   "source": [
    "import pandas as pd\n",
    "wine_names = ['Class', 'Alcohol', 'Malic acid', 'Ash', 'Alcalinity of ash', 'Magnesium', 'Total phenols', 'Flavanoids', 'Nonflavanoid phenols', 'Proanthocyanins', 'Color intensity', 'Hue', 'OD280/OD315', 'Proline']\n",
    "wine_data = pd.read_csv('https://archive.ics.uci.edu/ml/machine-learning-databases/wine/wine.data', names = wine_names) \n",
    "wine_df = pd.DataFrame(wine_data)"
   ]
  },
  {
   "cell_type": "code",
   "execution_count": null,
   "metadata": {
    "slideshow": {
     "slide_type": "-"
    }
   },
   "outputs": [],
   "source": [
    "# Filter data (drop)\n",
    "\n",
    "# Add data (assign)\n",
    "\n",
    "# Group data\n",
    "# wine_df.groupby('Class')['Alcohol'].mean()"
   ]
  },
  {
   "cell_type": "markdown",
   "metadata": {
    "slideshow": {
     "slide_type": "slide"
    }
   },
   "source": [
    "## Train-test-split\n",
    "\n",
    "- We want to find a fitting model by learning from data\n",
    "- But we also want to know how good our fitted model is\n",
    "\n",
    "\n",
    "- Usually we have one (big) dataset\n",
    "- We can divide the data we have in two groups\n",
    "- The larger one is used for training (\"learning\") the model\n",
    "- The other is used for testing (\"validating\") the model (we want to see how well our prediction is)"
   ]
  },
  {
   "cell_type": "markdown",
   "metadata": {
    "slideshow": {
     "slide_type": "slide"
    }
   },
   "source": [
    "## Train-test-split - Example\n",
    "\n",
    "- We want to learn from data to fit a good model\n",
    "- But we also want to know how good or fitted model is\n",
    "\n",
    "\n",
    "- Usually we have one (big) dataset\n",
    "- We can divide the data we have in two groups\n",
    "- The larger one is used for training (\"learning\") the model\n",
    "- The other is used for testing (\"validating\") the model (we want to see how well our prediction is)"
   ]
  },
  {
   "cell_type": "code",
   "execution_count": null,
   "metadata": {},
   "outputs": [],
   "source": []
  },
  {
   "cell_type": "markdown",
   "metadata": {
    "slideshow": {
     "slide_type": "slide"
    }
   },
   "source": [
    "## Model classes\n",
    "\n",
    "- Different types of models:\n",
    "    - (Unsupervised) Clustering models\n",
    "    - (Supervised) Classification models\n",
    "    - (Supervised) Regression models\n",
    "    \n",
    "- Multiple models for every type\n",
    "- (Slightly) different ways of using different classes  "
   ]
  },
  {
   "attachments": {},
   "cell_type": "markdown",
   "metadata": {
    "slideshow": {
     "slide_type": "slide"
    }
   },
   "source": [
    "## Model classes\n",
    "\n",
    "<img src=\"img/ml_map.png\" width=\"90%\" align=\"center\">"
   ]
  },
  {
   "cell_type": "markdown",
   "metadata": {
    "slideshow": {
     "slide_type": "slide"
    }
   },
   "source": [
    "## Model classes - Clustering\n",
    "\n",
    "- **Goal:** Discover groups of similar data points and choose a matching group for new data\n",
    "- **Example:** Which wines are similar to an unknown wine?\n",
    "\n",
    "\n",
    "- Based on features\n",
    "- \"Cluster and select\"\n",
    "- For us: \n",
    "    - Step 1: divide train-data into groups (clusters) \n",
    "    - Step 2: assign one of these groups to each data point in the test-data\n",
    "    - (Step 3: use the option that was best for this group)\n",
    "- Number of clusters may be given it advance\n",
    "\n",
    "\n",
    "- Common Clustering models are: KMeans, GMM, MeanShift"
   ]
  },
  {
   "cell_type": "markdown",
   "metadata": {
    "slideshow": {
     "slide_type": "slide"
    }
   },
   "source": [
    "### Michaels Slides for Clustering"
   ]
  },
  {
   "cell_type": "markdown",
   "metadata": {
    "slideshow": {
     "slide_type": "slide"
    }
   },
   "source": [
    "## Model classes - Classification\n",
    "\n",
    "- **Goal:** The known data is classified in categories. Which of these categories will unknown data belong to?\n",
    "- **Example:** Will an unknown wine be bad, average or good?\n",
    "\n",
    "\n",
    "- Uses features and (Class-)labels\n",
    "- Samples belong to two or more classes (these are the labels)\n",
    "- Learning from labeled data how to predict the class of unlabeled data\n",
    "\n",
    "\n",
    "- Common Classification models are: RandomForestClassifier, SupportVectorClassifier (SVC), KNeighborsClassifier"
   ]
  },
  {
   "cell_type": "markdown",
   "metadata": {
    "slideshow": {
     "slide_type": "slide"
    }
   },
   "source": [
    "### Michaels Slides for Classification"
   ]
  },
  {
   "cell_type": "markdown",
   "metadata": {
    "slideshow": {
     "slide_type": "slide"
    }
   },
   "source": [
    "## Model classes - Regression\n",
    "\n",
    "- **Goal:** The known data has desired output values. How big will this value be for unknown data?\n",
    "- **Example:** How much alcohol will an unknown wine have?\n",
    "\n",
    "\n",
    "- Uses features and (Value-)labels\n",
    "- Samples have (usually continuous) values of interest (these are the labels)\n",
    "- Learning from labeled data how to predict the values of unlabeled data\n",
    "\n",
    "\n",
    "- Common Regression models are: RandomForestRegressor, LinearRegression, SupportVectorRegressor (SVR)"
   ]
  },
  {
   "cell_type": "markdown",
   "metadata": {
    "slideshow": {
     "slide_type": "slide"
    }
   },
   "source": [
    "### Michaels Slides for Regression"
   ]
  },
  {
   "cell_type": "markdown",
   "metadata": {
    "slideshow": {
     "slide_type": "slide"
    }
   },
   "source": [
    "## Models\n",
    "\n",
    "- Scikit-learn has a lot of different models\n",
    "- Examples are:\n",
    "    - [KMeans](https://scikit-learn.org/stable/modules/generated/sklearn.cluster.KMeans.html)\n",
    "    - [RandomForestClassifier](https://scikit-learn.org/stable/modules/generated/sklearn.ensemble.RandomForestClassifier.html)\n",
    "    - [LinearRegression](https://scikit-learn.org/stable/modules/generated/sklearn.linear_model.LinearRegression.html)\n",
    "- Each one requires different parameters\n",
    "- How the models work can be quite different\n",
    "- How you work with the models is very similar (within a model-class)"
   ]
  },
  {
   "cell_type": "markdown",
   "metadata": {
    "slideshow": {
     "slide_type": "slide"
    }
   },
   "source": [
    "## Methods\n",
    "\n",
    "- Each model-class has methods that you can use\n",
    "- The most important (for us) are:\n",
    "    - For Clustering models: fit_predict, predict\n",
    "    - For Classification models: fit, predict, (predict_proba)\n",
    "    - For Clustering models: fit, predict"
   ]
  },
  {
   "cell_type": "markdown",
   "metadata": {
    "slideshow": {
     "slide_type": "slide"
    }
   },
   "source": [
    "## Methods - Clustering Example\n",
    "### fit_predict\n",
    "\n",
    "- Used for Clustering models\n",
    "- Takes data with features as input parameter\n",
    "- Divides the given data into Clusters based on their features\n"
   ]
  },
  {
   "cell_type": "code",
   "execution_count": null,
   "metadata": {},
   "outputs": [],
   "source": []
  },
  {
   "cell_type": "markdown",
   "metadata": {
    "slideshow": {
     "slide_type": "slide"
    }
   },
   "source": [
    "## Methods - Clustering Example\n",
    "### predict\n",
    "\n",
    "- Used for Clustering models\n",
    "- For an unseen instance, we can predict which cluster is best\n",
    "\n",
    "- After that, we still need to select the best option for a cluster (see MaxSat data)"
   ]
  },
  {
   "cell_type": "code",
   "execution_count": null,
   "metadata": {},
   "outputs": [],
   "source": []
  },
  {
   "cell_type": "markdown",
   "metadata": {
    "slideshow": {
     "slide_type": "slide"
    }
   },
   "source": [
    "## Methods - Classification Example\n",
    "### fit\n",
    "\n",
    "- Used for Classification models\n",
    "- Takes data with features and (class-)labels as input parameter"
   ]
  },
  {
   "cell_type": "code",
   "execution_count": null,
   "metadata": {},
   "outputs": [],
   "source": []
  },
  {
   "cell_type": "markdown",
   "metadata": {
    "slideshow": {
     "slide_type": "slide"
    }
   },
   "source": [
    "## Methods - Classification Example\n",
    "### predict\n",
    "\n",
    "- Used for Classification models\n",
    "- Takes unlabelled data with features as input parameter and gives predictions for their (class-)labels"
   ]
  },
  {
   "cell_type": "code",
   "execution_count": null,
   "metadata": {},
   "outputs": [],
   "source": []
  },
  {
   "cell_type": "markdown",
   "metadata": {
    "slideshow": {
     "slide_type": "slide"
    }
   },
   "source": [
    "## Methods - Regression Example\n",
    "### fit\n",
    "\n",
    "- Used for Regression models\n",
    "- Takes data with features and (value-)labels as input parameter"
   ]
  },
  {
   "cell_type": "code",
   "execution_count": null,
   "metadata": {},
   "outputs": [],
   "source": []
  },
  {
   "cell_type": "markdown",
   "metadata": {
    "slideshow": {
     "slide_type": "slide"
    }
   },
   "source": [
    "## Methods - Regression Example\n",
    "### predict\n",
    "\n",
    "- Used for Regression models\n",
    "- Takes unlabelled data with features as input parameter and gives predictions for their (value-)labels"
   ]
  },
  {
   "cell_type": "code",
   "execution_count": null,
   "metadata": {},
   "outputs": [],
   "source": []
  },
  {
   "cell_type": "markdown",
   "metadata": {
    "slideshow": {
     "slide_type": "slide"
    }
   },
   "source": [
    "## Machine Learning Models\n",
    "\n",
    "After all, it's just three lines of code:"
   ]
  },
  {
   "cell_type": "code",
   "execution_count": null,
   "metadata": {},
   "outputs": [],
   "source": [
    "model = *SKLeanModel*\n",
    "model.fit(train_data)\n",
    "prd = model.predict(test_data)"
   ]
  },
  {
   "cell_type": "markdown",
   "metadata": {
    "slideshow": {
     "slide_type": "slide"
    }
   },
   "source": [
    "## Solution quality\n",
    "\n",
    "- We can now check, how good our predictions were\n",
    "- We compare them to the real values of the test set"
   ]
  },
  {
   "cell_type": "code",
   "execution_count": null,
   "metadata": {},
   "outputs": [],
   "source": []
  },
  {
   "cell_type": "markdown",
   "metadata": {
    "slideshow": {
     "slide_type": "slide"
    }
   },
   "source": [
    "## Cross-Validation\n",
    "\n",
    "- When splitting data, it is random which data is used for training\n",
    "- The model turns out a little different depending on this randomness\n",
    "- To have more robust **estimation** of the solution quality, we can use cross-validation\n",
    "\n",
    "\n",
    "- In a real world situation, we would probably still use all the data"
   ]
  },
  {
   "cell_type": "markdown",
   "metadata": {
    "slideshow": {
     "slide_type": "slide"
    }
   },
   "source": [
    "### Michaels Slides for CV"
   ]
  },
  {
   "cell_type": "markdown",
   "metadata": {
    "slideshow": {
     "slide_type": "slide"
    }
   },
   "source": [
    "## Cross-Validation - Example"
   ]
  },
  {
   "cell_type": "code",
   "execution_count": null,
   "metadata": {
    "slideshow": {
     "slide_type": "-"
    }
   },
   "outputs": [],
   "source": []
  },
  {
   "cell_type": "markdown",
   "metadata": {
    "slideshow": {
     "slide_type": "slide"
    }
   },
   "source": [
    "## Further learning\n",
    "\n",
    "- [Pandas](https://www.youtube.com/watch?v=vmEHCJofslg&ab_channel=KeithGalli)\n",
    "    - Video Tutorial on how to work with Pandas\n",
    "- [Scikit-learn](https://scikit-learn.org/stable/tutorial/index.html)\n",
    "    - Scikit-learn Tutorial (Text-based)\n",
    "- [Scikit-learn](https://www.youtube.com/watch?v=0B5eIE_1vpU&ab_channel=freeCodeCamp.org)\n",
    "    - General Video Tutorial on Scikit-learn (beginner friendly)"
   ]
  }
 ],
 "metadata": {
  "celltoolbar": "Slideshow",
  "kernelspec": {
   "display_name": "Python 3",
   "language": "python",
   "name": "python3"
  },
  "language_info": {
   "codemirror_mode": {
    "name": "ipython",
    "version": 3
   },
   "file_extension": ".py",
   "mimetype": "text/x-python",
   "name": "python",
   "nbconvert_exporter": "python",
   "pygments_lexer": "ipython3",
   "version": "3.7.4"
  },
  "toc": {
   "base_numbering": 1,
   "nav_menu": {},
   "number_sections": false,
   "sideBar": true,
   "skip_h1_title": false,
   "title_cell": "Table of Contents",
   "title_sidebar": "Contents",
   "toc_cell": false,
   "toc_position": {},
   "toc_section_display": true,
   "toc_window_display": false
  },
  "varInspector": {
   "cols": {
    "lenName": 16,
    "lenType": 16,
    "lenVar": 40
   },
   "kernels_config": {
    "python": {
     "delete_cmd_postfix": "",
     "delete_cmd_prefix": "del ",
     "library": "var_list.py",
     "varRefreshCmd": "print(var_dic_list())"
    },
    "r": {
     "delete_cmd_postfix": ") ",
     "delete_cmd_prefix": "rm(",
     "library": "var_list.r",
     "varRefreshCmd": "cat(var_dic_list()) "
    }
   },
   "types_to_exclude": [
    "module",
    "function",
    "builtin_function_or_method",
    "instance",
    "_Feature"
   ],
   "window_display": false
  }
 },
 "nbformat": 4,
 "nbformat_minor": 2
}
