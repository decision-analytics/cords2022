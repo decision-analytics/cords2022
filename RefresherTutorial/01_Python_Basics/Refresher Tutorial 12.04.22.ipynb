{
 "cells": [
  {
   "attachments": {},
   "cell_type": "markdown",
   "metadata": {},
   "source": [
    "\n",
    "## Combining OR and Data Science\n",
    "**Summer Term 2022**\n",
    "\n",
    "\n",
    "# Refresher Tutorial 1: Python Basics\n",
    "\n",
    "<br><br>\n",
    "#### J-Prof. Dr. Michael Römer, Till Porrmann \n",
    "#### Decision Analytics Group | Bielefeld University"
   ]
  },
  {
   "cell_type": "markdown",
   "metadata": {},
   "source": [
    "## Learning the Interface\n",
    "\n",
    "- Markdown- and code-cells\n",
    "- Ctrl+Enter for running a cell"
   ]
  },
  {
   "cell_type": "markdown",
   "metadata": {},
   "source": [
    "This is a **markdown cell**, which is used for writing text."
   ]
  },
  {
   "cell_type": "code",
   "execution_count": 1,
   "metadata": {},
   "outputs": [
    {
     "name": "stdout",
     "output_type": "stream",
     "text": [
      "this is a code cell\n",
      "you can write code here\n"
     ]
    }
   ],
   "source": [
    "print('this is a code cell')\n",
    "print('you can write code here')\n",
    "# Comments can be writen with writing a \"#\" at the beginning of a line"
   ]
  },
  {
   "cell_type": "markdown",
   "metadata": {},
   "source": [
    "## Learning to write Code"
   ]
  },
  {
   "cell_type": "markdown",
   "metadata": {},
   "source": [
    "### Basics\n",
    "- you can use ```print()``` to let python output something\n",
    "- this can be text or **variables**\n",
    "- variables...\n",
    "    - can be named as you like (with some restrictions)\n",
    "    - can be set to a value with ```=```\n",
    "    - can be used later in the code"
   ]
  },
  {
   "cell_type": "code",
   "execution_count": 2,
   "metadata": {},
   "outputs": [
    {
     "name": "stdout",
     "output_type": "stream",
     "text": [
      "Hello\n"
     ]
    }
   ],
   "source": [
    "print('Hello')"
   ]
  },
  {
   "cell_type": "code",
   "execution_count": 3,
   "metadata": {},
   "outputs": [],
   "source": [
    "cool_variable_1 = 42\n",
    "cool_variable_2 = 'CORDS is fun'"
   ]
  },
  {
   "cell_type": "code",
   "execution_count": null,
   "metadata": {},
   "outputs": [],
   "source": [
    "print(cool_variable_1)"
   ]
  },
  {
   "cell_type": "code",
   "execution_count": 4,
   "metadata": {},
   "outputs": [
    {
     "name": "stdout",
     "output_type": "stream",
     "text": [
      "42 plus five is: 47\n"
     ]
    }
   ],
   "source": [
    "print('42 plus five is:', cool_variable_1 + 5)"
   ]
  },
  {
   "cell_type": "markdown",
   "metadata": {},
   "source": [
    "### Lists\n",
    "- Lists can store multiple values\n",
    "- They are createt with []\n",
    "- Elements of a list can be accessed with []"
   ]
  },
  {
   "cell_type": "code",
   "execution_count": 8,
   "metadata": {},
   "outputs": [],
   "source": [
    "cool_list = [ 4.2 , 1.7 , 2.2 , 4.0 , 2.9 , 7.2 , 8.5 , 9.3 , 2.9 ]"
   ]
  },
  {
   "cell_type": "code",
   "execution_count": 9,
   "metadata": {},
   "outputs": [
    {
     "data": {
      "text/plain": [
       "4.2"
      ]
     },
     "execution_count": 9,
     "metadata": {},
     "output_type": "execute_result"
    }
   ],
   "source": [
    "cool_list[0]"
   ]
  },
  {
   "cell_type": "code",
   "execution_count": 10,
   "metadata": {},
   "outputs": [
    {
     "data": {
      "text/plain": [
       "[2.2, 4.0, 2.9]"
      ]
     },
     "execution_count": 10,
     "metadata": {},
     "output_type": "execute_result"
    }
   ],
   "source": [
    "cool_list[2:5]"
   ]
  },
  {
   "cell_type": "markdown",
   "metadata": {},
   "source": [
    "### Loops\n",
    "- loops repeat parts of the code\n",
    "- a for-loop is used with ```for ... in ... :```\n",
    "- it can iterate over elements of a list\n",
    "- indentation is important when working with loops and conditions"
   ]
  },
  {
   "cell_type": "code",
   "execution_count": 11,
   "metadata": {},
   "outputs": [
    {
     "name": "stdout",
     "output_type": "stream",
     "text": [
      "8.4\n",
      "inside of the loop\n",
      "3.4\n",
      "inside of the loop\n",
      "4.4\n",
      "inside of the loop\n",
      "8.0\n",
      "inside of the loop\n",
      "5.8\n",
      "inside of the loop\n",
      "14.4\n",
      "inside of the loop\n",
      "17.0\n",
      "inside of the loop\n",
      "18.6\n",
      "inside of the loop\n",
      "5.8\n",
      "inside of the loop\n",
      "outside of the loop\n"
     ]
    }
   ],
   "source": [
    "for element in cool_list:\n",
    "    print(element * 2)\n",
    "    print('inside of the loop')\n",
    "    \n",
    "print('outside of the loop')"
   ]
  },
  {
   "cell_type": "markdown",
   "metadata": {},
   "source": [
    "### Conditions\n",
    "- conditions decide, if a part of code is executed\n",
    "- the syntax is ```if ... :```\n",
    "- ```else:``` can be used if needed"
   ]
  },
  {
   "cell_type": "code",
   "execution_count": 12,
   "metadata": {},
   "outputs": [
    {
     "name": "stdout",
     "output_type": "stream",
     "text": [
      "not greater\n"
     ]
    }
   ],
   "source": [
    "if cool_list[1] > 5:\n",
    "    print('greater')\n",
    "else:\n",
    "    print('not greater')"
   ]
  },
  {
   "cell_type": "markdown",
   "metadata": {},
   "source": [
    "### Functions\n",
    "- functions are defined to be used later (possibly multiple times)\n",
    "- definition with ```def FUNCTION_NAME(...):```\n",
    "- can be called later by using the function name\n",
    "- can ```return``` a value"
   ]
  },
  {
   "cell_type": "code",
   "execution_count": 52,
   "metadata": {},
   "outputs": [],
   "source": [
    "def my_function(number):  \n",
    "    \n",
    "    print('Our number is:', number)\n",
    "    squared = number ** 2\n",
    "    \n",
    "    print('Our number squared is:', squared) \n",
    "    \n",
    "    return squared"
   ]
  },
  {
   "cell_type": "code",
   "execution_count": 49,
   "metadata": {
    "scrolled": true
   },
   "outputs": [
    {
     "name": "stdout",
     "output_type": "stream",
     "text": [
      "Our number is: 6\n",
      "Our number squared is: 36\n"
     ]
    },
    {
     "data": {
      "text/plain": [
       "36"
      ]
     },
     "execution_count": 49,
     "metadata": {},
     "output_type": "execute_result"
    }
   ],
   "source": [
    "my_function(6)"
   ]
  },
  {
   "cell_type": "markdown",
   "metadata": {},
   "source": [
    "## Further learning\n",
    "\n",
    "- [Python Basics](https://www.learnpython.org)\n",
    "    - Concepts we learned and some more stuff\n",
    "- [NumPy](https://www.datacamp.com/community/tutorials/matplotlib-tutorial-python)\n",
    "    - Provides Arrays as an good performing alternative to lists\n",
    "- [MatPlotLib](https://www.datacamp.com/community/tutorials/python-numpy-tutorial)\n",
    "    - To create graphs"
   ]
  }
 ],
 "metadata": {
  "kernelspec": {
   "display_name": "Python 3",
   "language": "python",
   "name": "python3"
  },
  "language_info": {
   "codemirror_mode": {
    "name": "ipython",
    "version": 3
   },
   "file_extension": ".py",
   "mimetype": "text/x-python",
   "name": "python",
   "nbconvert_exporter": "python",
   "pygments_lexer": "ipython3",
   "version": "3.7.4"
  },
  "toc": {
   "base_numbering": 1,
   "nav_menu": {},
   "number_sections": false,
   "sideBar": true,
   "skip_h1_title": false,
   "title_cell": "Table of Contents",
   "title_sidebar": "Contents",
   "toc_cell": false,
   "toc_position": {},
   "toc_section_display": true,
   "toc_window_display": false
  },
  "varInspector": {
   "cols": {
    "lenName": 16,
    "lenType": 16,
    "lenVar": 40
   },
   "kernels_config": {
    "python": {
     "delete_cmd_postfix": "",
     "delete_cmd_prefix": "del ",
     "library": "var_list.py",
     "varRefreshCmd": "print(var_dic_list())"
    },
    "r": {
     "delete_cmd_postfix": ") ",
     "delete_cmd_prefix": "rm(",
     "library": "var_list.r",
     "varRefreshCmd": "cat(var_dic_list()) "
    }
   },
   "types_to_exclude": [
    "module",
    "function",
    "builtin_function_or_method",
    "instance",
    "_Feature"
   ],
   "window_display": false
  }
 },
 "nbformat": 4,
 "nbformat_minor": 2
}
