{
 "cells": [
  {
   "cell_type": "markdown",
   "metadata": {
    "slideshow": {
     "slide_type": "slide"
    }
   },
   "source": [
    "<img src=\"img/logo_wiwi_en_.png\" width=\"30%\" align=\"left\">\n",
    "\n",
    "<img src=\"img/decision_analytics_logo.png\" width=\"17%\" align=\"right\">\n",
    "\n",
    "\n",
    "\n",
    "<br><br><br><br><br><br><br><br>\n",
    "\n",
    "\n",
    "\n",
    "# Combining OR and Data Science\n",
    "\n",
    "**Summer Term 2022**\n",
    "\n",
    "\n",
    "# 3. Obtaining Probability Distributions and Probabilistic Machine Learning Models\n",
    "\n",
    "\n",
    "\n",
    "<br>\n",
    "\n",
    "<br>\n",
    "<br>\n",
    "\n",
    "**J-Prof. Dr. Michael Römer, Till Porrmann**\n",
    "\n",
    "**Decision Analytics Group  | Bielefeld University**\n",
    "                                                    \n",
    "                                                \n"
   ]
  },
  {
   "cell_type": "code",
   "execution_count": 1,
   "metadata": {
    "slideshow": {
     "slide_type": "skip"
    }
   },
   "outputs": [],
   "source": [
    "import numpy as np\n",
    "from scipy import stats\n",
    "\n",
    "import matplotlib.pyplot as plt\n",
    "%matplotlib inline"
   ]
  },
  {
   "cell_type": "markdown",
   "metadata": {
    "slideshow": {
     "slide_type": "slide"
    }
   },
   "source": [
    "# Motivational Case Study: Planning a Night Out"
   ]
  },
  {
   "cell_type": "markdown",
   "metadata": {
    "slideshow": {
     "slide_type": "slide"
    }
   },
   "source": [
    "## Case Study: Planning a Night Out\n",
    "\n",
    "Let's assume you and four of your friends want to go seeing a movie at the cinema. You'd like to meet at your place and from there, you take the bus to the city center. \n",
    "\n",
    "The problem is that some of your friends are notorious for being late, and you can only leave when the whole group is complete.\n",
    "\n",
    "You think you might better plan with some buffer, that is, you tell your friends to be at your place *before* you actually intend to actually leave. How can we do that? "
   ]
  },
  {
   "cell_type": "markdown",
   "metadata": {
    "slideshow": {
     "slide_type": "slide"
    }
   },
   "source": [
    "## Case Study: Planning a Night Out: Modelling Uncertainty\n",
    "\n",
    "Assume that in the last year, you and your friends had a bet on who is the person being late most often, and to be able to decide that, you recorded lateness data (in minutes) for each of your meetings. The data is provided below, with a negative value indicating that a friend arrived before the designated meeting time.\n",
    "\n",
    "You find 100 data points for three of your friends (Mary, Bob and Susan) below."
   ]
  },
  {
   "cell_type": "code",
   "execution_count": 2,
   "metadata": {
    "slideshow": {
     "slide_type": "-"
    }
   },
   "outputs": [],
   "source": [
    "delays_mary = np.array([ 3.32014123e+00, -9.67098063e+00, 2.35842102e+00, 7.02330401e+00, 1.22700849e+01, -2.42490485e+00, -1.49666078e+01, 6.11740869e+00, 5.13562497e+00, 1.34950034e+01, -9.60407911e-01, 5.49943644e+00, 5.07242018e+00, 2.41309956e-02, 4.60450638e+00, 5.08672074e+00, -2.20154951e+01, -1.75173033e+01, 6.15112351e+00, -9.54471082e+00, 3.15884880e+00, 1.16492278e+01, -2.68543744e+00, -1.01695228e+01, -7.95717574e-01, 4.53047539e-01, 1.68928846e+00, 2.35296830e+01, -6.03174105e+00, -6.19072580e+00, 8.41514039e+00, -3.49757797e+00, 1.25504450e+01, 5.04423891e+00, 5.11121064e+00, -1.18134367e+00, 2.92960832e+00, -6.03763308e-01, 3.87285675e+00, 3.29870993e+00, 8.10144509e+00, -2.87492938e-03, -2.03524093e+00, 1.96343342e+01, -8.80338337e+00, -3.86774505e-01, 4.98624311e+00, 1.55262867e+01, 1.26915285e+01, 2.40439156e+00, -8.77566915e+00, 1.24399529e+01, -6.79125784e+00, -1.25706841e+01, 2.55732399e+01, 2.64107367e+00, 1.02658272e+01, 2.42252172e+00, -5.86199913e-02, 2.62056724e+00, 8.43885133e-01, 3.39407135e+00, 4.86987180e-01, -1.04936687e+00, 3.87583201e+00, 6.40025914e+00, 9.51883109e+00, 1.23677444e+01, 6.23503852e-01, 1.60759425e+01, 1.89662576e+01, -4.37047989e+00, 2.19782944e+01, -4.15766239e+00, -3.48288974e+00, -7.70652366e+00, 9.36956476e+00, -6.25473169e+00, 4.23813263e+00, 1.46061130e+01, 2.88354461e+01, 7.09792233e+00, 7.67652374e+00, 2.80712359e+01, 1.44003808e+01, -2.46924289e+00, 8.41726553e+00, -1.58436478e+00, -4.41454972e+00, 1.55742040e+01, 1.39837144e+00, -3.55693544e+00, 1.91297577e+00, 4.03830099e+00, 1.22190295e+01, 9.86833357e+00, 5.65192262e-01, -2.72996457e+00, 2.73653844e+01, -1.20559766e+01])\n",
    "\n",
    "delays_bob = np.array([-19.78681595, -15.44299155, 2.67154477, -7.83493858, 4.00880527, 0.34025467, -28.47904732, 0.80555743, -5.30271539, -1.28037053, 10.25987346, -4.84178624, -4.03455494, 8.71769885, -15.89028396, 6.82717146, -36.46895519, 11.63411226, 8.05707033, -4.43840503, 26.21918555, 7.5470958 , 22.08189372, 19.93756014, 27.66556658, -7.04657282, 6.84144316, -19.94944023, 11.31037567, -39.51971805, 17.19224569, 0.78750812, 17.66800619, 26.71119959, 2.37344935, 24.39428877, 11.53783294, -9.30084091, -29.2457853 , 9.0023513 , -9.02150957, 5.95666611, 20.87398912, -6.70167581, 0.15255514, 4.59574557, -0.81257895, 31.84352344, -12.85049451, -2.19421409, 2.22386821, 11.71979073, -30.1834824 , 13.28038749, -0.72872073, -10.06521312, 1.1289978 , 7.2094995 , -1.5559774 , -5.27891806, -6.39270753, 2.60547607, -30.06011714, -3.60528318, 15.64552365, 13.91533729, -1.41838155, -1.51941176, 21.5289577 , -39.09871775, 9.52722842, -3.43963765, -18.39921995, -6.71566329, -6.49729967, 26.04157866, -26.66060035, 5.23707034, -0.92118503, 12.87019353, -8.41391006, -2.38828899, 25.87994954, 22.39060771, 10.64073125, -18.84156722, -27.20620871, 21.25568474, 11.7725902 , 20.87086477, 22.38714617, -3.42738566, 13.31128297, -32.20117816, 19.29887748, 8.02759135, 46.64157277, 15.71216697, -4.43816966, -0.36918591])\n",
    "\n",
    "delays_susan = np.array([ 8.74527638, 2.25909861, 0.80659952, 2.85370853, 14.8604216 , 8.0257344 , 10.98851503, 5.4014817 , 17.80523127, 5.89811625, 1.28227347, 1.82915289, 0.49622237, 8.52235799, 3.99821157, 11.39059599, 16.06342554, 4.80378808, 4.3592862 , 0.13370344, 3.28169158, 3.85831434, 23.7692892 , 0.59277324, 0.76401746, 5.52034948, 2.88981186, 11.40753913, 6.20590656, 6.19567553, 0.06911148, 18.23919452, 0.54041839, 9.93554691, 1.16328045, 12.62642981, 1.34872161, 3.12734727, 0.48580896, 0.53570645, 0.75486399, 15.0714803 , 1.15650394, 17.21651547, 15.30896805, 0.79348048, 0.79291726, 7.80350474, 1.10739541, 1.22069739, 3.14468496, 2.9326338 , 14.34572917, 1.82180059, 23.60517282, 1.63481223, 16.45558702, 1.70007469, 0.46412416, 1.46717318, 1.56009239, 0.59331706, 4.4650805 , 16.01246056, 0.32034881, 4.64753206, 1.85373041, 0.19314866, 1.97092659, 25.24471519, 0.66432842, 0.92604989, 2.91199795, 0.5156231 , 1.42717931, 2.00299388, 1.51957868, 0.3029704 , 0.74386835, 3.72284483, 14.87828075, 3.56512795, 9.17597987, 15.04203998, 10.67693831, 2.73869525, 13.27452711, 0.10215095, 12.54041192, 0.05518983, 9.85177033, 3.71303105, 4.79944687, 2.85525066, 9.42258761, 0.10544078, 4.28444945, 1.29827093, 3.61559973, 10.04668101])"
   ]
  },
  {
   "cell_type": "markdown",
   "metadata": {
    "slideshow": {
     "slide_type": "-"
    }
   },
   "source": [
    "Your fourth friend Leo didn't participate in the bets, so you don't have data for him. In this case, you can make a subjective probability assessment - since you probably don't know Leo, just think of yourself or of one of your own friends.\n",
    " "
   ]
  },
  {
   "cell_type": "markdown",
   "metadata": {
    "slideshow": {
     "slide_type": "slide"
    }
   },
   "source": [
    "## Part I: Combining OR and Data Science for Planning under Uncertainty\n",
    "\n",
    "- **Representing uncertainty:** Probability distributions and how to obtain them\n",
    "- **Calculating under uncertainty:** Computing functions of uncertain variables\n",
    "- **Deciding under uncertainty:** Taking \"simple\" decisions under uncertainty\n",
    "- **Optimizing under uncertainty:** Stochastic and Chance-constrained  Programming\n",
    "- **Learning and optimizing under uncertainty:**  Combining Machine Learning and Optimization under Uncertainty"
   ]
  },
  {
   "cell_type": "markdown",
   "metadata": {
    "slideshow": {
     "slide_type": "slide"
    }
   },
   "source": [
    "## This Week\n",
    "\n",
    "In this week, the goal is to learn about ways to obtain (univariate) probability\n",
    "distributions that can used in decision making under uncertainty: \n",
    "\n",
    "In particular, we will discuss:\n",
    "- some basic parametric distributionns and their \"stories\"\n",
    "- visual methods for probability elicitation\n",
    "- conditions for deriving distributions from homobeneous data\n",
    "- fitting parametric distributions from data\n",
    "- using empirical distributions \n",
    "- using probabilistic machine learning for obtaining conditional distributions in more complex settings\n"
   ]
  },
  {
   "cell_type": "markdown",
   "metadata": {
    "slideshow": {
     "slide_type": "slide"
    }
   },
   "source": [
    "# Parametric Distributions"
   ]
  },
  {
   "cell_type": "markdown",
   "metadata": {
    "slideshow": {
     "slide_type": "slide"
    }
   },
   "source": [
    "## Parametric Distributions\n",
    "\n",
    "**Parametric Distributions** are distribution models with a given density\n",
    " / mass function that is specified by one or more parameters\n",
    "\n",
    "Different distributions have different\n",
    "- \"stories\" / underlying assumptions\n",
    "- state spaces\n",
    "- number of parameters\n",
    "- tail properties\n",
    "- $\\ldots$\n"
   ]
  },
  {
   "cell_type": "markdown",
   "metadata": {
    "hide_input": false,
    "slideshow": {
     "slide_type": "slide"
    }
   },
   "source": [
    "## Discrete: Bernoulli Distribution\n",
    "\n",
    "\n",
    "**Parameter:**\n",
    "- $p$: Probability of outcome 1 (e.g. success)\n",
    "\n",
    "**Examples / Usage:**\n",
    "- tossing a coin\n",
    "- defectiveness of an item in production\n",
    "\n",
    "https://distribution-explorer.github.io/discrete/bernoulli.html"
   ]
  },
  {
   "cell_type": "code",
   "execution_count": 3,
   "metadata": {
    "slideshow": {
     "slide_type": "-"
    }
   },
   "outputs": [],
   "source": [
    "from scipy.stats import bernoulli\n",
    "p = 0.9\n",
    "dist_bernoulli = bernoulli(p)"
   ]
  },
  {
   "cell_type": "code",
   "execution_count": 4,
   "metadata": {
    "hide_input": true,
    "scrolled": true,
    "slideshow": {
     "slide_type": "-"
    }
   },
   "outputs": [
    {
     "data": {
      "image/png": "[encoded data removed]",
      "text/plain": [
       "<Figure size 864x345.6 with 2 Axes>"
      ]
     },
     "metadata": {
      "needs_background": "light"
     },
     "output_type": "display_data"
    }
   ],
   "source": [
    "from scipy.stats import bernoulli\n",
    "\n",
    "\n",
    "fig, (ax1,ax2) = plt.subplots(1, 2,figsize=(12, 4.8))\n",
    "fig.suptitle(f'Bernoulli Distribution (p={p})',fontsize=16)\n",
    "\n",
    "xx = np.arange(2)\n",
    "ax1.plot(xx, dist_bernoulli.pmf(xx), 'bo', ms=8)\n",
    "ax1.vlines(xx, 0, dist_bernoulli.pmf(xx), color='b', lw=5)\n",
    "ax1.set_title('Probability Mass Function')\n",
    "\n",
    "xx = np.linspace(-0.10,1.1,1000)\n",
    "ax2.plot(xx, dist_bernoulli.cdf(xx), 'b')\n",
    "ax2.set_title('Cumulative Distribution Function')\n",
    "\n",
    "#plt.savefig(\"bernoulli.pdf\",bbox_inches=\"tight\")\n",
    "plt.show()"
   ]
  },
  {
   "cell_type": "markdown",
   "metadata": {
    "slideshow": {
     "slide_type": "slide"
    }
   },
   "source": [
    "## Discrete: Binomial Distribution\n",
    "\n",
    "\n",
    "**Parameters:**\n",
    "- $n$: Number of trials\n",
    "- $p$: Probability of outcome 1 (e.g. success)\n",
    "\n",
    "**Examples / Usage:**\n",
    "- tossing multiple coins\n",
    "- number of defective parts in a batch\n",
    "\n",
    "\n",
    "https://distribution-explorer.github.io/discrete/binomial.html\n"
   ]
  },
  {
   "cell_type": "code",
   "execution_count": 5,
   "metadata": {
    "slideshow": {
     "slide_type": "-"
    }
   },
   "outputs": [],
   "source": [
    "from scipy.stats import binom\n",
    "n, p = 10, 0.4\n",
    "dist_binom = binom(n,p)"
   ]
  },
  {
   "cell_type": "code",
   "execution_count": 6,
   "metadata": {
    "hide_input": false,
    "scrolled": true,
    "slideshow": {
     "slide_type": "-"
    }
   },
   "outputs": [
    {
     "data": {
      "image/png": "[encoded data removed]",
      "text/plain": [
       "<Figure size 864x345.6 with 2 Axes>"
      ]
     },
     "metadata": {
      "needs_background": "light"
     },
     "output_type": "display_data"
    }
   ],
   "source": [
    "\n",
    "fig, (ax1,ax2) = plt.subplots(1, 2, figsize=(12, 4.8))\n",
    "fig.suptitle(f'Binomial Distribution (n={n},p={p})',fontsize=16)\n",
    "\n",
    "xx = np.arange(dist_binom.ppf(0.01), dist_binom.ppf(1)+1)\n",
    "ax1.plot(xx,dist_binom.pmf(xx), 'bo', ms=8)\n",
    "ax1.vlines(xx, 0, dist_binom.pmf(xx), color='b', lw=5)\n",
    "ax1.set_title('Probability Mass Function')\n",
    "\n",
    "xx = np.linspace(dist_binom.ppf(0.01)-0.1, dist_binom.ppf(1)+0.1,1000)\n",
    "ax2.plot(xx, dist_binom.cdf(xx), 'b')\n",
    "ax2.set_title('Cumulative Distribution Function')\n",
    "\n",
    "#plt.savefig(\"binomial.pdf\",bbox_inches=\"tight\")\n",
    "plt.show()\n"
   ]
  },
  {
   "cell_type": "markdown",
   "metadata": {
    "slideshow": {
     "slide_type": "skip"
    }
   },
   "source": [
    "**Excercise:** Experiment with different parameters of the Binomial Distribution! "
   ]
  },
  {
   "cell_type": "markdown",
   "metadata": {
    "slideshow": {
     "slide_type": "slide"
    }
   },
   "source": [
    "## (Continuous) Uniform Distribution\n",
    "\n",
    "**Parameters:**\n",
    "- lower bound\n",
    "- upper bound\n",
    "\n",
    "**Examples / Usage:**\n",
    "- fundamental distribution for random number generation\n",
    "- representing high uncertainty / no prior knowledge \n",
    "\n"
   ]
  },
  {
   "cell_type": "code",
   "execution_count": 7,
   "metadata": {
    "slideshow": {
     "slide_type": "-"
    }
   },
   "outputs": [],
   "source": [
    "from scipy.stats import uniform\n",
    "\n",
    "lower_bound, upper_bound = 0, 1\n",
    "\n",
    "# scipy uses loc = lower_bound and scale = upper_bound-lower_bound\n",
    "uniform_dist = uniform(loc=lower_bound, scale=upper_bound-lower_bound)\n"
   ]
  },
  {
   "cell_type": "code",
   "execution_count": 8,
   "metadata": {
    "hide_input": false,
    "slideshow": {
     "slide_type": "-"
    }
   },
   "outputs": [
    {
     "data": {
      "image/png": "[encoded data removed]",
      "text/plain": [
       "<Figure size 864x345.6 with 2 Axes>"
      ]
     },
     "metadata": {
      "needs_background": "light"
     },
     "output_type": "display_data"
    },
    {
     "name": "stdout",
     "output_type": "stream",
     "text": [
      "Expected value: 0.5, variance: 0.08333333333333333, standard deviation: 0.28867513459481287\n",
      "Quantiles: 0.05: 0.05, 0.5(median): 0.5, 0.05: 0.95\n"
     ]
    }
   ],
   "source": [
    "\n",
    "fig, (ax1,ax2) = plt.subplots(1, 2, figsize=(12, 4.8), sharey=True)\n",
    "fig.suptitle(fr'Uniform Distribution with lower bound ={lower_bound},  upper bound ={upper_bound}',fontsize=16)\n",
    "\n",
    "xx = np.linspace(lower_bound - 0.1, upper_bound+0.1, 1000)\n",
    "\n",
    "ax1.plot(xx, uniform_dist.pdf(xx), linewidth=2, color='b')\n",
    "ax1.set_title('Probability Density Function')\n",
    "\n",
    "ax2.plot(xx, uniform_dist.cdf(xx), linewidth=2, color='b')\n",
    "ax2.set_title('Cumulative Distribution Function')\n",
    "\n",
    "#plt.savefig(\"uniform.pdf\",bbox_inches=\"tight\")\n",
    "\n",
    "plt.show()\n",
    "\n",
    "dist = uniform_dist\n",
    "\n",
    "print(f'Expected value: {dist.mean()}, variance: {dist.var()}, standard deviation: {dist.std()}')\n",
    "print (f'Quantiles: 0.05: {dist.ppf(0.05)}, 0.5(median): {dist.median()}, 0.05: {dist.ppf(0.95)}')"
   ]
  },
  {
   "cell_type": "markdown",
   "metadata": {
    "slideshow": {
     "slide_type": "slide"
    }
   },
   "source": [
    "\n",
    "## Continuous: Normal (Gaussian) Distribution\n",
    "\n",
    "**Parameters**\n",
    "- $\\mu$: expected value\n",
    "- $\\sigma$: standard deviation\n",
    "\n",
    "**Examples / Usage:**\n",
    "- results from summing up independent random variables (central limit theorem)\n",
    "- often used as model for additive model error / residuals\n",
    "\n",
    "\n",
    "https://distribution-explorer.github.io/continuous/normal.html\n",
    "\n"
   ]
  },
  {
   "cell_type": "code",
   "execution_count": 9,
   "metadata": {
    "slideshow": {
     "slide_type": "-"
    }
   },
   "outputs": [],
   "source": [
    "from scipy.stats import norm\n",
    "\n",
    "loc = 0 # mean\n",
    "scale = 1 # standard deviation\n",
    "\n",
    "dist_normal = norm(loc,scale)"
   ]
  },
  {
   "cell_type": "code",
   "execution_count": 10,
   "metadata": {
    "hide_input": true,
    "slideshow": {
     "slide_type": "-"
    }
   },
   "outputs": [
    {
     "data": {
      "image/png": "[encoded data removed]",
      "text/plain": [
       "<Figure size 864x345.6 with 2 Axes>"
      ]
     },
     "metadata": {
      "needs_background": "light"
     },
     "output_type": "display_data"
    },
    {
     "name": "stdout",
     "output_type": "stream",
     "text": [
      "Expected value: 0.0, variance: 1.0, standard deviation: 1.0\n",
      "Quantiles: 0.05: -1.6448536269514729, 0.5(median): 0.0, 0.05: 1.6448536269514722\n"
     ]
    }
   ],
   "source": [
    "fig, (ax1,ax2) = plt.subplots(1, 2, figsize=(12, 4.8), constrained_layout=True, sharey=True)\n",
    "fig.suptitle(f'Normal Distribution with loc={loc}, scale={scale}',fontsize=16)\n",
    "\n",
    "xx = np.linspace(-3, 3, 1000)\n",
    "\n",
    "ax1.plot(xx, dist_normal.pdf(xx), linewidth=2, color='b')\n",
    "ax1.set_title('Probability Density Function')\n",
    "\n",
    "ax2.plot(xx, dist_normal.cdf(xx), linewidth=2, color='b')\n",
    "ax2.set_title('Cumulative Distribution Function')\n",
    "\n",
    "#plt.savefig(\"normal.pdf\",bbox_inches=\"tight\")\n",
    "plt.show()\n",
    "\n",
    "\n",
    "dist = dist_normal\n",
    "\n",
    "print(f'Expected value: {dist.mean()}, variance: {dist.var()}, standard deviation: {dist.std()}')\n",
    "print (f'Quantiles: 0.05: {dist.ppf(0.05)}, 0.5(median): {dist.median()}, 0.05: {dist.ppf(0.95)}')"
   ]
  },
  {
   "cell_type": "markdown",
   "metadata": {
    "slideshow": {
     "slide_type": "slide"
    }
   },
   "source": [
    "## Continuous: Exponential Distribution\n",
    "\n",
    "**Parameters**\n",
    "- $\\lambda$: rate of events / arrival rate\n",
    "\n",
    "**Examples / Usage:**\n",
    "- time between events, e.g. time between machine failures or \n",
    "- inter-arrival time\n",
    "\n",
    "https://distribution-explorer.github.io/continuous/exponential.html"
   ]
  },
  {
   "cell_type": "code",
   "execution_count": 11,
   "metadata": {
    "slideshow": {
     "slide_type": "-"
    }
   },
   "outputs": [],
   "source": [
    "from scipy.stats import expon\n",
    "\n",
    "#parameters\n",
    "lambd = 1.0\n",
    "\n",
    "#always set loc = 0 when considering a non-shifted exponential distribution\n",
    "# scipy uses 1/lambd instead of lambd as parameter\n",
    "expon_dist = expon(loc=0, scale=1/lambd) "
   ]
  },
  {
   "cell_type": "code",
   "execution_count": 12,
   "metadata": {
    "hide_input": true,
    "slideshow": {
     "slide_type": "-"
    }
   },
   "outputs": [
    {
     "data": {
      "image/png": "[encoded data removed]",
      "text/plain": [
       "<Figure size 864x309.6 with 2 Axes>"
      ]
     },
     "metadata": {
      "needs_background": "light"
     },
     "output_type": "display_data"
    },
    {
     "name": "stdout",
     "output_type": "stream",
     "text": [
      "Expected value: 1.0, variance: 1.0, standard deviation: 1.0\n",
      "Quantiles: 0.05: 0.051293294387550536, 0.5(median): 0.6931471805599453, 0.05: 2.99573227355399\n"
     ]
    }
   ],
   "source": [
    "fig, (ax1,ax2) = plt.subplots(1, 2, figsize=(12, 4.3), constrained_layout=True)\n",
    "\n",
    "fig.suptitle(fr'Exponential Distribution with lambda={lambd}',fontsize=16)\n",
    "\n",
    "xx = np.linspace(1E-6, 25, 1000)\n",
    "\n",
    "ax1.plot(xx, expon_dist.pdf(xx), linewidth=2, color='b')\n",
    "ax1.set_title('Probability Density Function')\n",
    "\n",
    "ax2.plot(xx, expon_dist.cdf(xx), linewidth=2, color='b')\n",
    "ax2.set_title('Cumulative Distribution Function')\n",
    "\n",
    "plt.savefig(\"expon.pdf\",bbox_inches=\"tight\")\n",
    "plt.show()\n",
    "\n",
    "dist = expon_dist\n",
    "\n",
    "print(f'Expected value: {dist.mean()}, variance: {dist.var()}, standard deviation: {dist.std()}')\n",
    "print (f'Quantiles: 0.05: {dist.ppf(0.05)}, 0.5(median): {dist.median()}, 0.05: {dist.ppf(0.95)}')"
   ]
  },
  {
   "cell_type": "markdown",
   "metadata": {
    "slideshow": {
     "slide_type": "skip"
    }
   },
   "source": [
    "**Excercise:** Experiment with different parameters of the Exponential Distribution!"
   ]
  },
  {
   "cell_type": "markdown",
   "metadata": {
    "slideshow": {
     "slide_type": "slide"
    }
   },
   "source": [
    "# Visual Probability Elicitation"
   ]
  },
  {
   "cell_type": "markdown",
   "metadata": {
    "slideshow": {
     "slide_type": "slide"
    }
   },
   "source": [
    "## Assessing / Elicitating Probability Distributions\n",
    "**Idea:** Turning the knowledge of subject matter experts into\n",
    "probability distributions\n",
    "\n",
    "- if we know the shapes of different distributions and some simple rules (e.g. regarding the allocation of the mass in the normal distribution), we may use these to guess a distribution\n",
    "- in general, however, domain experts are not necessarily experts in\n",
    "  stating probability distributions\n",
    "- however, deriving distribution form expert knowledge can be trained\n",
    "  and supported by well-established methods of **probability\n",
    "  elicitation** and **calibration training**\n",
    "\n",
    "**Examples**\n",
    "- **Quantile-based approaches:** asking for quantiles estimates, e.g. quartiles, tertiles\n",
    "- **Roulette approach:** distribute a number of \"chips\" across intervals/bins"
   ]
  },
  {
   "cell_type": "markdown",
   "metadata": {
    "slideshow": {
     "slide_type": "skip"
    }
   },
   "source": [
    "\n",
    "\n",
    "\n",
    "### Subjective Probability Assement / Probability Elicitation\n",
    "\n",
    "A set of online tools for subjective probability assement according to the so-called SHELF method can be found here:\n",
    "http://optics.eee.nottingham.ac.uk/match/uncertainty.php\n",
    "and:\n",
    "http://www.jeremy-oakley.staff.shef.ac.uk/project/elicitation/\n",
    "\n",
    "The methods behind these tools are explained in a scientic article: https://www.sciencedirect.com/science/article/pii/S1364815213002533\n",
    "\n",
    "There is even a short online course on probility elicitation: http://www.tonyohagan.co.uk/shelf/ecourse.html\n",
    "\n",
    "For more comprehensive information, see e.g. the book \"Uncertain Judgements: Eliciting Experts' Probabilities\" by Anthony O'Hagan et al.  https://onlinelibrary.wiley.com/doi/book/10.1002/0470033312\n"
   ]
  },
  {
   "cell_type": "markdown",
   "metadata": {
    "slideshow": {
     "slide_type": "slide"
    }
   },
   "source": [
    "## The Roulette Method for Probability Elicitation\n",
    "\n",
    "**Example:** Roulette method with web-tool *Shape*\n",
    "\n",
    "$\\rightarrow$ virtually placing chips into bins/intervals\n",
    "\n",
    "<img src='img/RouletteAssess.png'>\n",
    "\n",
    "http://optics.eee.nottingham.ac.uk/match/uncertainty.php\n"
   ]
  },
  {
   "cell_type": "markdown",
   "metadata": {
    "slideshow": {
     "slide_type": "slide"
    }
   },
   "source": [
    "## The Roulette Method for Probability Elicitation\n",
    "\n",
    "**Example:** Roulette method with web-tool *Shape*\n",
    "\n",
    "- distribution that matches the chip placement best\n",
    "\n",
    "\n",
    "<img src='img/RouletteResult.png'>\n",
    "\n",
    "http://optics.eee.nottingham.ac.uk/match/uncertainty.php"
   ]
  },
  {
   "cell_type": "markdown",
   "metadata": {
    "slideshow": {
     "slide_type": "slide"
    }
   },
   "source": [
    "## Case Study: Planning a night out\n",
    "\n",
    "Your fourth friend Leo didn't participate in the bets, so you don't have data for him. In this case, you can make a subjective probability assessment - since you probably don't know Leo, just think of yourself or of one of your own friends.\n",
    "\n",
    "You can use the online probability assessment tool Match (http://optics.eee.nottingham.ac.uk/match/uncertainty.php) for creating the distribution. Please make sure that you set the bounds in a plausible way before starting. You may choose any of the offered methods, e.g. the roulette method we mentioned above.\n",
    " "
   ]
  },
  {
   "cell_type": "markdown",
   "metadata": {
    "slideshow": {
     "slide_type": "slide"
    }
   },
   "source": [
    "# Fitting Distributions from Data"
   ]
  },
  {
   "cell_type": "markdown",
   "metadata": {
    "slideshow": {
     "slide_type": "slide"
    }
   },
   "source": [
    "## How can we use data?\n",
    "\n",
    "- we can directly sample from data (**resampling**)\n",
    "  - easy, reflects what happended\n",
    "  - but: we need a lot of data and risk to overfit on the data\n",
    "- we can fit a parametric probability model (distribution)\n",
    "  - less risk of overfitting, parameters can be adapted for sensitivity analysis\n",
    "  - sampling not only restricted to historical data\n",
    "- we can use an empirical distribution\n",
    "  - more flexible that parametric distributions\n",
    "  - still some risk of overfitting to data\n",
    "  \n",
    "  "
   ]
  },
  {
   "cell_type": "markdown",
   "metadata": {
    "slideshow": {
     "slide_type": "fragment"
    }
   },
   "source": [
    "We'll use the following data sets for illustration"
   ]
  },
  {
   "cell_type": "code",
   "execution_count": 13,
   "metadata": {
    "slideshow": {
     "slide_type": "fragment"
    }
   },
   "outputs": [],
   "source": [
    "\n",
    "data1 = np.loadtxt('data/data1.txt')\n",
    "data2 = np.loadtxt('data/data2.txt')\n",
    "data3 = np.loadtxt('data/data3.txt')\n"
   ]
  },
  {
   "cell_type": "markdown",
   "metadata": {
    "slideshow": {
     "slide_type": "skip"
    }
   },
   "source": [
    "# Assessing Data: Is a Single Distribution Appropriate?"
   ]
  },
  {
   "cell_type": "markdown",
   "metadata": {
    "slideshow": {
     "slide_type": "slide"
    }
   },
   "source": [
    "## Before we use data: \n",
    "\n",
    "Fitting a distribution / resampling from data requires that the data is **independent\n",
    "and identically distributed (i.i.d.)**\n",
    "\n",
    "- independent from other variables and no serial dependencies (autocorrelation)\n",
    "- the distribution is the same at each point in time (e.g. no trends or seasonalities)\n",
    "\n",
    "$\\rightarrow$ If the i.i.d assumtion does not hold, we need a more complex model (e.g. a timeseries model / a stochastic process)\n"
   ]
  },
  {
   "cell_type": "markdown",
   "metadata": {
    "slideshow": {
     "slide_type": "slide"
    }
   },
   "source": [
    "## Checking IID Assumptions\n",
    "\n",
    "Fitting a distribution from data requires that the data is **independent\n",
    "and identically distributed (iid)**\n",
    "\n",
    "- independent from other variables and no serial dependencies (autocorrelation)\n",
    "- the distribution is the same at each point in time (e.g. no trends or seasonalities)\n",
    "\n",
    "We can use visual approaches to explore these properties!\n"
   ]
  },
  {
   "cell_type": "markdown",
   "metadata": {
    "slideshow": {
     "slide_type": "slide"
    }
   },
   "source": [
    "## Checking IID Assumptions: Serial Independence\n",
    "\n",
    "**Serial independence** means that the previous observations do not have\n",
    "a significant impact on the distribution of an observation\n",
    "\n",
    "- autocorrelation plots show the correlation between \"neighboring\" observations\n",
    "- the x-axis corresponds to the lags between the indexes of the observations\n"
   ]
  },
  {
   "cell_type": "code",
   "execution_count": 14,
   "metadata": {
    "hide_input": false,
    "scrolled": true,
    "slideshow": {
     "slide_type": "fragment"
    }
   },
   "outputs": [
    {
     "ename": "ModuleNotFoundError",
     "evalue": "No module named 'statsmodels'",
     "output_type": "error",
     "traceback": [
      "\u001b[1;31m---------------------------------------------------------------------------\u001b[0m",
      "\u001b[1;31mModuleNotFoundError\u001b[0m                       Traceback (most recent call last)",
      "Input \u001b[1;32mIn [14]\u001b[0m, in \u001b[0;36m<module>\u001b[1;34m\u001b[0m\n\u001b[1;32m----> 1\u001b[0m \u001b[38;5;28;01mfrom\u001b[39;00m \u001b[38;5;21;01mstatsmodels\u001b[39;00m\u001b[38;5;21;01m.\u001b[39;00m\u001b[38;5;21;01mgraphics\u001b[39;00m\u001b[38;5;21;01m.\u001b[39;00m\u001b[38;5;21;01mtsaplots\u001b[39;00m \u001b[38;5;28;01mimport\u001b[39;00m plot_acf\n\u001b[0;32m      3\u001b[0m plot_acf(data3,lags\u001b[38;5;241m=\u001b[39m\u001b[38;5;241m10\u001b[39m,alpha\u001b[38;5;241m=\u001b[39m\u001b[38;5;28;01mNone\u001b[39;00m)\n",
      "\u001b[1;31mModuleNotFoundError\u001b[0m: No module named 'statsmodels'"
     ]
    }
   ],
   "source": [
    "from statsmodels.graphics.tsaplots import plot_acf\n",
    "\n",
    "plot_acf(data3,lags=10,alpha=None);"
   ]
  },
  {
   "cell_type": "markdown",
   "metadata": {
    "slideshow": {
     "slide_type": "skip"
    }
   },
   "source": [
    "**Excercise:** Plot the autocorrelation function for data setd data2 and data3!"
   ]
  },
  {
   "cell_type": "markdown",
   "metadata": {
    "heading_collapsed": true,
    "slideshow": {
     "slide_type": "slide"
    }
   },
   "source": [
    "##  Checking IID Assumptions: Identically Distributed\n",
    "**Identically distributed** means that the distribution of the uncertain\n",
    "quantity is the same no matter when it is observed\n",
    "\n",
    "- we can check this by plotting the observations over time\n",
    "- we may also add trend lines, e.g. using regression\n",
    "\n"
   ]
  },
  {
   "cell_type": "code",
   "execution_count": null,
   "metadata": {
    "hidden": true,
    "slideshow": {
     "slide_type": "fragment"
    }
   },
   "outputs": [],
   "source": [
    "data = data2\n",
    "xx = range(len(data))\n",
    "\n",
    "plt.scatter(xx, data, s=3);\n",
    "\n",
    "z = np.polyfit(xx, data, deg=15) # deg is the degree of the polynomial (1=linear)\n",
    "p = np.poly1d(z)\n",
    "plt.plot(xx, p(xx), 'm-');\n",
    "\n"
   ]
  },
  {
   "cell_type": "markdown",
   "metadata": {
    "hidden": true,
    "slideshow": {
     "slide_type": "skip"
    }
   },
   "source": [
    "**Excercise:** \n",
    "Plot the data points and a trend for data set data3! \n",
    "\n",
    "Think of the shape of the plotted data and the relation of the shape to the autocorrelation plot. \n",
    "\n",
    "For data3, try out different polynomials for the regression line!"
   ]
  },
  {
   "cell_type": "markdown",
   "metadata": {
    "slideshow": {
     "slide_type": "slide"
    }
   },
   "source": [
    "# Fitting Parametric Distributions from i.i.d. Data"
   ]
  },
  {
   "cell_type": "markdown",
   "metadata": {
    "slideshow": {
     "slide_type": "slide"
    }
   },
   "source": [
    "## Fitting Parametric Distributions from Data\n",
    "\n",
    "**If we have data, we can use it for fitting a parametric distribution**\n",
    "\n",
    "1. (Ensure that the data can be represented by a single distribution,\n",
    "   that is, that it is independent and identically distributed (iid) <br>\n",
    "   $\\rightarrow$ if it is not, use a more complex model)   \n",
    "2. Select a parametric distribution <br>\n",
    "   $\\rightarrow$ if there is no reasonable distribution, use empirical distribution \n",
    "3. Fit the distribution <br>\n",
    "   $\\rightarrow$ find the distributrion parameters yielding the best fit\n",
    "4. Evaluate the goodness of fit  <br>\n",
    "   $\\rightarrow$ choose a different parametric or use empirical distribution\n"
   ]
  },
  {
   "cell_type": "markdown",
   "metadata": {
    "slideshow": {
     "slide_type": "slide"
    }
   },
   "source": [
    "## Selecting a Parametric Distribution\n",
    "\n",
    "A **histogram** can be viewed as an approximation of a probability\n",
    "density function"
   ]
  },
  {
   "cell_type": "code",
   "execution_count": null,
   "metadata": {
    "slideshow": {
     "slide_type": "-"
    }
   },
   "outputs": [],
   "source": [
    "\n",
    "count, bins, ignored = plt.hist(data2, bins=30, density=True, color='#EEEEEE', edgecolor=\"#AAAAAA\")\n"
   ]
  },
  {
   "cell_type": "markdown",
   "metadata": {
    "slideshow": {
     "slide_type": "-"
    }
   },
   "source": [
    "It may help us selecting a parametric distribution by comparing\n",
    "- state space / support\n",
    "- shape, e.g. symmetry, skewness, tail behavior"
   ]
  },
  {
   "cell_type": "markdown",
   "metadata": {
    "heading_collapsed": true,
    "slideshow": {
     "slide_type": "slide"
    }
   },
   "source": [
    "## Selecting a Parametric Distribution\n",
    "\n",
    "In addition to a \"visual\" selection, we may ask ourselves if the\n",
    "**assumptions behind the distribution** fit to our uncertain variable:\n",
    "- does the variability result from additive influences?\n",
    "- may outputs be negative?\n",
    "- how likely are extreme outcomes?\n",
    "\n",
    "For assumptions / stories behind some important distributions, see the\n",
    "[distribution explorer](https://distribution-explorer.github.io) website mentioned above."
   ]
  },
  {
   "cell_type": "markdown",
   "metadata": {
    "hidden": true,
    "slideshow": {
     "slide_type": "skip"
    }
   },
   "source": [
    "**Excercise:** Create histograms for the other two datasets!\n"
   ]
  },
  {
   "cell_type": "markdown",
   "metadata": {
    "slideshow": {
     "slide_type": "slide"
    }
   },
   "source": [
    "## Fitting Parameters\n",
    "\n",
    "Given a parametric distribution, the next step is to find the\n",
    "parameters yielding the *best fit* to the data\n",
    "- typically, we use **maximum likelihood estimates**\n",
    "- that are implemented in packages such as Scipy.Stats\n",
    "\n",
    "\n",
    "..but be careful: the best parameters for a given distribution do **not** imply that\n",
    "the fit is good!\n"
   ]
  },
  {
   "cell_type": "markdown",
   "metadata": {
    "slideshow": {
     "slide_type": "fragment"
    }
   },
   "source": [
    "Example: Fitting an exponential distribution:"
   ]
  },
  {
   "cell_type": "code",
   "execution_count": null,
   "metadata": {
    "slideshow": {
     "slide_type": "fragment"
    }
   },
   "outputs": [],
   "source": [
    "params = expon.fit(data2, floc=0) #floc=0 forbids shifting on the x-axis\n",
    "\n",
    "print(f\"Estimated parameter lambda = {1/params[1]:0.2f}\") #params[1] is scale (equals 1/lambda)\n",
    "\n",
    "expon_dist = expon(*params)\n",
    "\n",
    "xx = np.linspace(0,np.max(data)+0.1,1000)\n",
    "plt.plot(xx, expon_dist.pdf(xx), linewidth=2);\n"
   ]
  },
  {
   "cell_type": "markdown",
   "metadata": {
    "slideshow": {
     "slide_type": "slide"
    }
   },
   "source": [
    "## Evaluating goodness-of-fit\n",
    "\n",
    "**Goal:** Check if the fitted distribution *is* a good fit\n",
    "\n",
    "\n",
    "\n",
    "**Approach 1: Visually compare data to fitted distribution**\n",
    "\n",
    "\n",
    "\n"
   ]
  },
  {
   "cell_type": "code",
   "execution_count": null,
   "metadata": {
    "hide_input": false,
    "scrolled": true,
    "slideshow": {
     "slide_type": "-"
    }
   },
   "outputs": [],
   "source": [
    "\n",
    "data = data2\n",
    "\n",
    "fig, (ax1,ax2) = plt.subplots(1, 2, figsize=(12, 4.8))\n",
    "\n",
    "xx = np.linspace(0,np.max(data)+0.1,1000)\n",
    "ax1.plot(xx, expon_dist.pdf(xx), linewidth=2, color=\"red\", label=\"Fitted PDF\")\n",
    "\n",
    "ax1.set_title('Empirical Histogram vs Fitted PDF');\n",
    "count, bins, ignored = ax1.hist(data, bins=30, density=True, color='#EEEEEE', edgecolor=\"#AAAAAA\")\n",
    "ax1.legend(loc=1);\n",
    "\n",
    "from statsmodels.distributions.empirical_distribution import ECDF\n",
    "ecdf = ECDF(data)\n",
    "ax2.plot(xx, ecdf(xx), 'b-', linewidth=2, label=\"Empirical CDF\")\n",
    "ax2.plot(xx, expon_dist.cdf(xx), 'r--', linewidth=2, label=\"Fitted CDF\")\n",
    "ax2.legend(loc=2);\n",
    "\n",
    "ax2.set_title('Empirical vs Fitted CDF')\n",
    "\n"
   ]
  },
  {
   "cell_type": "markdown",
   "metadata": {
    "slideshow": {
     "slide_type": "slide"
    }
   },
   "source": [
    "## Evaluating goodness-of-fit\n",
    "\n",
    "\n",
    "**Approach 2: Statistical Goodness-of-Fit-Testing**\n",
    "\n",
    "- For every possible distribution: Kolmogorov-Smirnov-test\n",
    "  - in case of normal distribution: Shapiro-Wilk-test\n",
    "- Null hypothesis: The data follows the tested\n",
    "  distribution\n",
    "- The tests usually return a *p-value*\n",
    "\n",
    "$\\rightarrow$ A p-value < $\\alpha$ means that the test rejects the null hypothesis and thus means that it rejects the\n",
    "distribution with a probability of $1- \\alpha$"
   ]
  },
  {
   "cell_type": "markdown",
   "metadata": {
    "slideshow": {
     "slide_type": "fragment"
    }
   },
   "source": [
    "Example: for the fitted exponential distribution"
   ]
  },
  {
   "cell_type": "code",
   "execution_count": null,
   "metadata": {
    "slideshow": {
     "slide_type": "-"
    }
   },
   "outputs": [],
   "source": [
    "level_of_significance = 0.05\n",
    "\n",
    "p_value = stats.kstest(data2,'expon',args=params).pvalue\n",
    "\n",
    "good_or_bad = 'bad' if p_value < level_of_significance else 'good'\n",
    "\n",
    "print(f'The p value is {p_value:0.2f}. Given a significance level of {level_of_significance}, the distribution seems to be a {good_or_bad} fit'  )"
   ]
  },
  {
   "cell_type": "markdown",
   "metadata": {
    "slideshow": {
     "slide_type": "slide"
    }
   },
   "source": [
    "\n",
    "**Excercise:**\n",
    "\n",
    "The Exponential distribution seems to be a good fit. Now try fitting the normal distribution, gamma distribution or the beta distribution and evaluate their fits!\n"
   ]
  },
  {
   "cell_type": "markdown",
   "metadata": {
    "slideshow": {
     "slide_type": "slide"
    }
   },
   "source": [
    "\n",
    "\n",
    "**Excercise:**\n",
    "\n",
    "The result of our iid checks was that data1 and data3 do not satisfy the iid assumptions (look above to verify this). Nonetheless, try fitting distributions and check if you find distributions for which the goodness-of-fit tests do not reject the fitted distributions!\n",
    "\n"
   ]
  },
  {
   "cell_type": "markdown",
   "metadata": {
    "slideshow": {
     "slide_type": "slide"
    }
   },
   "source": [
    "## Case Study: Planning a night out\n",
    "\n",
    "Assume that in the last year, you and your friends had a bet on who is the person being late most often, and to be able to decide that, you recorded lateness data (in minutes) for each of your meetings. The data is provided below, with a negative value indicating that a friend arrived before the designated meeting time.\n",
    "\n",
    "You find 100 data points for three of your friends (Mary, Bob and Susan) below.\n",
    "\n",
    "Plot the histograms of each data set (use 10 bins since we only have 100 data points), select a distribution you already encountered in one of the videos that matches the shape of the histogram and fit the parameters. Afterwards, evaluate the goodness of fit. You can assume that the data is iid. Compute the expected values for each of the distributions."
   ]
  },
  {
   "cell_type": "code",
   "execution_count": null,
   "metadata": {
    "slideshow": {
     "slide_type": "-"
    }
   },
   "outputs": [],
   "source": [
    "delays_mary = np.array([ 3.32014123e+00, -9.67098063e+00, 2.35842102e+00, 7.02330401e+00, 1.22700849e+01, -2.42490485e+00, -1.49666078e+01, 6.11740869e+00, 5.13562497e+00, 1.34950034e+01, -9.60407911e-01, 5.49943644e+00, 5.07242018e+00, 2.41309956e-02, 4.60450638e+00, 5.08672074e+00, -2.20154951e+01, -1.75173033e+01, 6.15112351e+00, -9.54471082e+00, 3.15884880e+00, 1.16492278e+01, -2.68543744e+00, -1.01695228e+01, -7.95717574e-01, 4.53047539e-01, 1.68928846e+00, 2.35296830e+01, -6.03174105e+00, -6.19072580e+00, 8.41514039e+00, -3.49757797e+00, 1.25504450e+01, 5.04423891e+00, 5.11121064e+00, -1.18134367e+00, 2.92960832e+00, -6.03763308e-01, 3.87285675e+00, 3.29870993e+00, 8.10144509e+00, -2.87492938e-03, -2.03524093e+00, 1.96343342e+01, -8.80338337e+00, -3.86774505e-01, 4.98624311e+00, 1.55262867e+01, 1.26915285e+01, 2.40439156e+00, -8.77566915e+00, 1.24399529e+01, -6.79125784e+00, -1.25706841e+01, 2.55732399e+01, 2.64107367e+00, 1.02658272e+01, 2.42252172e+00, -5.86199913e-02, 2.62056724e+00, 8.43885133e-01, 3.39407135e+00, 4.86987180e-01, -1.04936687e+00, 3.87583201e+00, 6.40025914e+00, 9.51883109e+00, 1.23677444e+01, 6.23503852e-01, 1.60759425e+01, 1.89662576e+01, -4.37047989e+00, 2.19782944e+01, -4.15766239e+00, -3.48288974e+00, -7.70652366e+00, 9.36956476e+00, -6.25473169e+00, 4.23813263e+00, 1.46061130e+01, 2.88354461e+01, 7.09792233e+00, 7.67652374e+00, 2.80712359e+01, 1.44003808e+01, -2.46924289e+00, 8.41726553e+00, -1.58436478e+00, -4.41454972e+00, 1.55742040e+01, 1.39837144e+00, -3.55693544e+00, 1.91297577e+00, 4.03830099e+00, 1.22190295e+01, 9.86833357e+00, 5.65192262e-01, -2.72996457e+00, 2.73653844e+01, -1.20559766e+01])\n",
    "\n",
    "delays_bob = np.array([-19.78681595, -15.44299155, 2.67154477, -7.83493858, 4.00880527, 0.34025467, -28.47904732, 0.80555743, -5.30271539, -1.28037053, 10.25987346, -4.84178624, -4.03455494, 8.71769885, -15.89028396, 6.82717146, -36.46895519, 11.63411226, 8.05707033, -4.43840503, 26.21918555, 7.5470958 , 22.08189372, 19.93756014, 27.66556658, -7.04657282, 6.84144316, -19.94944023, 11.31037567, -39.51971805, 17.19224569, 0.78750812, 17.66800619, 26.71119959, 2.37344935, 24.39428877, 11.53783294, -9.30084091, -29.2457853 , 9.0023513 , -9.02150957, 5.95666611, 20.87398912, -6.70167581, 0.15255514, 4.59574557, -0.81257895, 31.84352344, -12.85049451, -2.19421409, 2.22386821, 11.71979073, -30.1834824 , 13.28038749, -0.72872073, -10.06521312, 1.1289978 , 7.2094995 , -1.5559774 , -5.27891806, -6.39270753, 2.60547607, -30.06011714, -3.60528318, 15.64552365, 13.91533729, -1.41838155, -1.51941176, 21.5289577 , -39.09871775, 9.52722842, -3.43963765, -18.39921995, -6.71566329, -6.49729967, 26.04157866, -26.66060035, 5.23707034, -0.92118503, 12.87019353, -8.41391006, -2.38828899, 25.87994954, 22.39060771, 10.64073125, -18.84156722, -27.20620871, 21.25568474, 11.7725902 , 20.87086477, 22.38714617, -3.42738566, 13.31128297, -32.20117816, 19.29887748, 8.02759135, 46.64157277, 15.71216697, -4.43816966, -0.36918591])\n",
    "\n",
    "delays_susan = np.array([ 8.74527638, 2.25909861, 0.80659952, 2.85370853, 14.8604216 , 8.0257344 , 10.98851503, 5.4014817 , 17.80523127, 5.89811625, 1.28227347, 1.82915289, 0.49622237, 8.52235799, 3.99821157, 11.39059599, 16.06342554, 4.80378808, 4.3592862 , 0.13370344, 3.28169158, 3.85831434, 23.7692892 , 0.59277324, 0.76401746, 5.52034948, 2.88981186, 11.40753913, 6.20590656, 6.19567553, 0.06911148, 18.23919452, 0.54041839, 9.93554691, 1.16328045, 12.62642981, 1.34872161, 3.12734727, 0.48580896, 0.53570645, 0.75486399, 15.0714803 , 1.15650394, 17.21651547, 15.30896805, 0.79348048, 0.79291726, 7.80350474, 1.10739541, 1.22069739, 3.14468496, 2.9326338 , 14.34572917, 1.82180059, 23.60517282, 1.63481223, 16.45558702, 1.70007469, 0.46412416, 1.46717318, 1.56009239, 0.59331706, 4.4650805 , 16.01246056, 0.32034881, 4.64753206, 1.85373041, 0.19314866, 1.97092659, 25.24471519, 0.66432842, 0.92604989, 2.91199795, 0.5156231 , 1.42717931, 2.00299388, 1.51957868, 0.3029704 , 0.74386835, 3.72284483, 14.87828075, 3.56512795, 9.17597987, 15.04203998, 10.67693831, 2.73869525, 13.27452711, 0.10215095, 12.54041192, 0.05518983, 9.85177033, 3.71303105, 4.79944687, 2.85525066, 9.42258761, 0.10544078, 4.28444945, 1.29827093, 3.61559973, 10.04668101])"
   ]
  },
  {
   "cell_type": "markdown",
   "metadata": {
    "slideshow": {
     "slide_type": "slide"
    }
   },
   "source": [
    "# Using Empirical / Parameter-Free Distributions"
   ]
  },
  {
   "cell_type": "markdown",
   "metadata": {
    "slideshow": {
     "slide_type": "slide"
    }
   },
   "source": [
    "## Empirical / Parameter-free distributions\n",
    "\n",
    "**If we don't find a good parametric distribution**:\n",
    "\n",
    "- we may use a parameter-free / empirical distribution\n",
    "- we fit a density function without assuming a distribution model\n",
    "- technically, we may use e.g. kernel density estimation <br>\n",
    "  in Python: https://docs.scipy.org/doc/scipy/reference/generated/scipy.stats.gaussian_kde.html\n",
    "  "
   ]
  },
  {
   "cell_type": "code",
   "execution_count": null,
   "metadata": {
    "hide_input": true,
    "scrolled": true,
    "slideshow": {
     "slide_type": "-"
    }
   },
   "outputs": [],
   "source": [
    "\n",
    "# creating data with two peaks\n",
    "sampD1 = norm.rvs(loc=-1.0,scale=1,size=500)\n",
    "sampD2 = norm.rvs(loc=2.0,scale=0.5,size=500)\n",
    "samp = np.hstack([sampD1,sampD2])\n",
    "\n",
    "# plotting the histogram\n",
    "count, bins, ignored = plt.hist(samp, 50, density=True, color='#EEEEEE', edgecolor=\"#AAAAAA\");\n"
   ]
  },
  {
   "cell_type": "markdown",
   "metadata": {
    "slideshow": {
     "slide_type": "slide"
    }
   },
   "source": [
    "Then, we use the parameter free gaussian kernel denisity estimation from scipy.stats to create a parameter-free distribution:\n",
    "https://docs.scipy.org/doc/scipy/reference/generated/scipy.stats.gaussian_kde.html"
   ]
  },
  {
   "cell_type": "code",
   "execution_count": null,
   "metadata": {
    "slideshow": {
     "slide_type": "slide"
    }
   },
   "outputs": [],
   "source": [
    "from scipy.stats.kde import gaussian_kde\n",
    "\n",
    "# obtaining the pdf (my_pdf is a function!)\n",
    "empirical_pdf = gaussian_kde(samp, bw_method=0.5 ) # parameter adapts the fit bw_method\n",
    "\n",
    "# plotting the result\n",
    "x = linspace(-5,5,100)\n",
    "plt.plot(x,empirical_pdf(x),'b') # distribution function\n",
    "count, bins, ignored = plt.hist(samp, 50, density=True, color='#EEEEEE', edgecolor=\"#AAAAAA\");\n"
   ]
  },
  {
   "cell_type": "markdown",
   "metadata": {
    "slideshow": {
     "slide_type": "skip"
    }
   },
   "source": [
    "**Excercise** \n",
    "\n",
    "The fit of the gaussian kde can be adjusted with the bandwidth parameter bw_method. Experiment with different settings of this parameter between 0 and 2 and see the effect on the fit."
   ]
  },
  {
   "cell_type": "markdown",
   "metadata": {
    "slideshow": {
     "slide_type": "slide"
    }
   },
   "source": [
    "## Empirical Discrete Distribution\n",
    "\n",
    "We can define an emiprical disrete distribution in which we have a discrete sample space, e.g. a sequence of integers from 0 to 6 and a **probability** for each of the integers.\n",
    "\n",
    "This generic distribution can be used to represent an **discrete** empirical distribution obtained from historical data."
   ]
  },
  {
   "cell_type": "code",
   "execution_count": null,
   "metadata": {
    "slideshow": {
     "slide_type": "-"
    }
   },
   "outputs": [],
   "source": [
    "from scipy.stats import rv_discrete\n",
    "\n",
    "# distribution parameters\n",
    "# xk is the sample space, pk contains the probability for each outcome\n",
    "xk = np.arange(7)\n",
    "pk = (0.1, 0.2, 0.3, 0.1, 0.1, 0.0, 0.2)\n",
    "\n",
    "custom_dist = rv_discrete(name='custom', values=(xk, pk))"
   ]
  },
  {
   "cell_type": "code",
   "execution_count": null,
   "metadata": {
    "scrolled": false,
    "slideshow": {
     "slide_type": "-"
    }
   },
   "outputs": [],
   "source": [
    "\n",
    "fig, (ax1,ax2) = plt.subplots(1, 2, figsize=(12, 4.8), sharey=True)\n",
    "fig.suptitle('Generic Discrete Distribution',fontsize=16)\n",
    "\n",
    "ax1.plot(xk, custom_dist.pmf(xk), 'bo', ms=8, mec='b')\n",
    "ax1.vlines(xk, 0, custom_dist.pmf(xk), color='b', lw=5)\n",
    "ax1.set_title('Probability Mass Function')\n",
    "\n",
    "xx = np.linspace(-0.1,6.1,10000)\n",
    "ax2.plot(xx, custom_dist.cdf(xx), 'b')\n",
    "ax2.set_title('Cumulative Distribution Function');\n",
    "\n"
   ]
  },
  {
   "cell_type": "markdown",
   "metadata": {
    "slideshow": {
     "slide_type": "slide"
    }
   },
   "source": [
    "# Finishing the Case Study"
   ]
  },
  {
   "cell_type": "markdown",
   "metadata": {
    "slideshow": {
     "slide_type": "slide"
    }
   },
   "source": [
    "## Completing the Case Study\n",
    "\n",
    "Given the uncertainty in the data, you suspect that your group of friends most likely will not be at your place on time so that you can leave together and make to the cinema.\n",
    "\n",
    "You think you might better plan with some buffer, that is, you tell your friends to be at your place *before* you actually intend to actually leave. Your first idea is to determine that buffer based on the expected arrival times of your friends: \n",
    "If you assume that each of your friends arrives with his or her expected delay, with how much delay would your group be complete so that you can leave?"
   ]
  },
  {
   "cell_type": "code",
   "execution_count": null,
   "metadata": {
    "slideshow": {
     "slide_type": "-"
    }
   },
   "outputs": [],
   "source": []
  },
  {
   "cell_type": "markdown",
   "metadata": {
    "slideshow": {
     "slide_type": "slide"
    }
   },
   "source": [
    "## The Flaw of Averages and Monte-Carlo Simulation\n",
    "\n",
    "Since you heard about the Flaw of Averages, you think that your buffer calculation based on expected may not be the best idea.\n",
    "\n",
    "Use Monte-Carlo simulation to to estimate the true expected delay of the group based on the delay distributions approximated above. \n",
    "\n",
    "Then, compare the two values and compute the error caused by the Flaw of Averages!"
   ]
  },
  {
   "cell_type": "code",
   "execution_count": null,
   "metadata": {
    "slideshow": {
     "slide_type": "-"
    }
   },
   "outputs": [],
   "source": [
    "\n"
   ]
  },
  {
   "cell_type": "markdown",
   "metadata": {
    "slideshow": {
     "slide_type": "slide"
    }
   },
   "source": [
    "Plot the histogram of the delay distribution to get a feeling of the delay uncertainty."
   ]
  },
  {
   "cell_type": "code",
   "execution_count": null,
   "metadata": {
    "slideshow": {
     "slide_type": "-"
    }
   },
   "outputs": [],
   "source": []
  },
  {
   "cell_type": "markdown",
   "metadata": {
    "slideshow": {
     "slide_type": "slide"
    }
   },
   "source": [
    "Compute the probability that your group starts later than the buffer based on the expected-value calculation."
   ]
  },
  {
   "cell_type": "code",
   "execution_count": null,
   "metadata": {
    "slideshow": {
     "slide_type": "-"
    }
   },
   "outputs": [],
   "source": []
  },
  {
   "cell_type": "markdown",
   "metadata": {
    "slideshow": {
     "slide_type": "slide"
    }
   },
   "source": [
    "How much buffer should you use for scheduling the meeting time if you wish that everyone is there at the desired time with a probability of 90%? "
   ]
  },
  {
   "cell_type": "code",
   "execution_count": null,
   "metadata": {},
   "outputs": [],
   "source": []
  },
  {
   "cell_type": "markdown",
   "metadata": {
    "slideshow": {
     "slide_type": "slide"
    }
   },
   "source": [
    "# Probabilistic Machine Learning Models\n"
   ]
  },
  {
   "cell_type": "markdown",
   "metadata": {
    "slideshow": {
     "slide_type": "slide"
    }
   },
   "source": [
    "## Motivation\n",
    "\n",
    "So far, we\n",
    "- discussed how to obtain probability distributions from data\n",
    "- learned that fitting a single distribution requires the i.i.d. assumption"
   ]
  },
  {
   "cell_type": "markdown",
   "metadata": {
    "slideshow": {
     "slide_type": "fragment"
    }
   },
   "source": [
    "What if this assumption does not hold?\n",
    "- we will need more complex models, e.g. probabilistic machine learning models\n",
    "- we will consider the first data set (data1) here"
   ]
  },
  {
   "cell_type": "code",
   "execution_count": null,
   "metadata": {
    "slideshow": {
     "slide_type": "-"
    }
   },
   "outputs": [],
   "source": [
    "\n",
    "data1 = np.loadtxt('data/data1.txt')\n",
    "\n",
    "\n",
    "data = data1\n",
    "\n",
    "xx = range(len(data))\n",
    "\n",
    "plt.scatter(xx, data, s=3);\n",
    "\n",
    "z = np.polyfit(xx, data, deg=1) # deg is the degree of the polynomial (1=linear)\n",
    "p = np.poly1d(z)\n",
    "plt.plot(xx, p(xx), 'm-');\n"
   ]
  },
  {
   "cell_type": "markdown",
   "metadata": {
    "slideshow": {
     "slide_type": "slide"
    }
   },
   "source": [
    "# Probabilistic Machine Learning Models: Overview\n",
    "\n",
    "\n",
    "In remainder of this meeting, we  will see how to use Data Science models to handle (certain) non-i.i.d. cases\n",
    "\n",
    "We will:\n",
    "- shortly review basic of Machine Learning\n",
    "- see how to obtain **probabilisitic** predictions \n",
    "  - from classification and\n",
    "  - regression models\n",
    "  \n",
    "\n",
    "\n"
   ]
  },
  {
   "cell_type": "markdown",
   "metadata": {
    "slideshow": {
     "slide_type": "slide"
    }
   },
   "source": [
    "##  Supervised vs unsupervised learning\n",
    "\n",
    "\n",
    "**Unsupervised Learning**\n",
    "- data points only contain features\n",
    "- the goal is to identify relations / associations between data points\n",
    "- prominent examples: clustering, market basket analyis\n",
    "\n",
    "\n",
    "**Supervised Learning**\n",
    "- \"learning from examples\"\n",
    "- each data point contains\n",
    "  - attributes / features **and**\n",
    "  - quantities / labels to be predicted\n",
    "\n"
   ]
  },
  {
   "cell_type": "markdown",
   "metadata": {
    "slideshow": {
     "slide_type": "slide"
    }
   },
   "source": [
    "## Supervised Learning: Classification vs Regression\n",
    "\n",
    "**Classification:**\n",
    "- categorical labels\n",
    "- predicting which class / which category\n",
    "\n",
    "**Regression:**\n",
    "- (continous) numerical labels\n",
    "- predicting how much / how many"
   ]
  },
  {
   "cell_type": "markdown",
   "metadata": {
    "slideshow": {
     "slide_type": "slide"
    }
   },
   "source": [
    "## Classification: Single Class vs  Probabilities\n",
    "\n",
    "- in classification, we typically predict the best or **most likely** class or category\n",
    "- for decision making, it is often useful to know the **probability of each class**\n",
    "- then, we can consider the outcome of a (probabilistic) classification as a **discrete probability distribution**\n",
    "\n",
    "Most tools for classification can also output these probabilities\n",
    "- e.g. in scikit-learn, there is `predict_proba`\n",
    "\n",
    "\n"
   ]
  },
  {
   "cell_type": "markdown",
   "metadata": {
    "slideshow": {
     "slide_type": "slide"
    }
   },
   "source": [
    "## Example: Classifying Cancer Cells\n",
    "\n",
    "Let us consider a data set with data containing features of breast cancer tumors and their classification as *malignant* or *beningn*. (The data set comes with scikit-learn)\n"
   ]
  },
  {
   "cell_type": "code",
   "execution_count": null,
   "metadata": {
    "slideshow": {
     "slide_type": "-"
    }
   },
   "outputs": [],
   "source": [
    "import sklearn\n",
    "from sklearn.datasets import load_breast_cancer\n",
    "\n",
    "from sklearn.naive_bayes import GaussianNB\n",
    "  \n",
    "data = load_breast_cancer()\n",
    "label_names = data['target_names']\n",
    "labels = data['target']\n",
    "feature_names = data['feature_names']\n",
    "features = data['data'];"
   ]
  },
  {
   "cell_type": "code",
   "execution_count": null,
   "metadata": {
    "slideshow": {
     "slide_type": "-"
    }
   },
   "outputs": [],
   "source": [
    "print (\"The first features: \", feature_names[0:4])\n",
    "print (\"Labels: \" , label_names)"
   ]
  },
  {
   "cell_type": "code",
   "execution_count": null,
   "metadata": {
    "slideshow": {
     "slide_type": "skip"
    }
   },
   "outputs": [],
   "source": [
    "# For learning\n",
    "from sklearn.model_selection import train_test_split\n",
    "from sklearn.metrics import accuracy_score"
   ]
  },
  {
   "cell_type": "markdown",
   "metadata": {
    "slideshow": {
     "slide_type": "-"
    }
   },
   "source": [
    " We split the data into a train- and a test set and train a **naïve Bayes** classifier with scikit-learn to predict the nature of the tumor from the features.\n",
    " \n",
    " It seems to work pretty well:"
   ]
  },
  {
   "cell_type": "code",
   "execution_count": null,
   "metadata": {
    "slideshow": {
     "slide_type": "-"
    }
   },
   "outputs": [],
   "source": [
    "train, test, train_labels, test_labels = train_test_split(features, labels,\n",
    "                                       test_size = 0.33, random_state = 42)\n",
    "gnb = GaussianNB()\n",
    "model = gnb.fit(train, train_labels)\n",
    "predictions = gnb.predict(test)\n",
    "print(f\"The accuray score of our model is: { accuracy_score(test_labels, predictions):0.2f} \")"
   ]
  },
  {
   "cell_type": "markdown",
   "metadata": {
    "slideshow": {
     "slide_type": "fragment"
    }
   },
   "source": [
    "This looks pretty good. Do we really need probabilistic forecasts?"
   ]
  },
  {
   "cell_type": "markdown",
   "metadata": {
    "slideshow": {
     "slide_type": "slide"
    }
   },
   "source": [
    "## Example: Quantifying Uncertainty\n",
    "\n",
    "**But what does this mean for a given patient?**\n",
    "- some cases are very clear, others not!\n",
    "- it can be very useful if the classifier **quantifies its own uncertainty**\n",
    "- in scikit-learn we can use the method `predict_proba` to obtain "
   ]
  },
  {
   "cell_type": "code",
   "execution_count": null,
   "metadata": {
    "slideshow": {
     "slide_type": "-"
    }
   },
   "outputs": [],
   "source": [
    "probabilistic_predictions = gnb.predict_proba(test)"
   ]
  },
  {
   "cell_type": "markdown",
   "metadata": {
    "slideshow": {
     "slide_type": "-"
    }
   },
   "source": [
    "**Let us consider two patient cases with the same prediction (benign)**\n",
    "\n",
    "Let us consider the first patient:\n"
   ]
  },
  {
   "cell_type": "code",
   "execution_count": null,
   "metadata": {
    "slideshow": {
     "slide_type": "-"
    }
   },
   "outputs": [],
   "source": [
    "patient = 0\n",
    "prediction = predictions[patient]\n",
    "probability = probabilistic_predictions[patient][prediction]\n",
    "print(f\"The prediction is that the tumor is {label_names[prediction]} with probability {probability:0.2f}\")"
   ]
  },
  {
   "cell_type": "markdown",
   "metadata": {
    "slideshow": {
     "slide_type": "fragment"
    }
   },
   "source": [
    "\n",
    "Now, let us consider the patient with index 8:"
   ]
  },
  {
   "cell_type": "code",
   "execution_count": null,
   "metadata": {
    "slideshow": {
     "slide_type": "-"
    }
   },
   "outputs": [],
   "source": [
    "patient = 8\n",
    "prediction = predictions[patient]\n",
    "probability = probabilistic_predictions[patient][prediction]\n",
    "print(f\"The prediction is that the tumor is {label_names[prediction]} with probability {probability:0.2f}\")"
   ]
  },
  {
   "cell_type": "markdown",
   "metadata": {
    "slideshow": {
     "slide_type": "-"
    }
   },
   "source": [
    "The latter patient may thus consider a more detailed investigation..."
   ]
  },
  {
   "cell_type": "markdown",
   "metadata": {
    "slideshow": {
     "slide_type": "slide"
    }
   },
   "source": [
    "## Example: Predicting Length-of-stay in Intensive Care Units (ICUs) \n",
    "\n",
    "In  research project in collaboration with EvKB (Bethel), we used probabilistic classification to predict the length of stay of patients in ICU:\n",
    "- 1 day, 2 days, 3 days, 4 or more days\n",
    "from patient health metrics\n",
    "- e.g. heart rate, blood pressure, medication, ...\n",
    "\n",
    "Along with distributions for emergency cases, we used these predictions for every ICU in a Monte Carlo Simulation \n",
    "- for predicting the daily distribution of ICU occupancy\n",
    "- for supporting decisions regarding elecitive surgeries that lead to ICU stays\n"
   ]
  },
  {
   "cell_type": "markdown",
   "metadata": {
    "slideshow": {
     "slide_type": "slide"
    }
   },
   "source": [
    "## Regression\n",
    "\n",
    "For regession models, sklearn does not generally provide the option to predict distributions\n",
    "\n",
    "In general, **what do we mean with probabilitstic regression?**\n",
    "\n",
    "- if $y$ is the (numeric) label and $\\textbf{x}=x_1,..x_n$ is a given  feature vector, then a probabilistic regression model gives us a distribution $Y$ that is conditioned on the features: $Y | \\textbf{x}$  "
   ]
  },
  {
   "cell_type": "markdown",
   "metadata": {
    "slideshow": {
     "slide_type": "fragment"
    }
   },
   "source": [
    "In a **classical linear regression** (based on ordinary least squares (OLS)):\n",
    "- $Y$ is a **normal distribution** (in this context often called the residual distribution)\n",
    "- the (point forecast) $y$ is the mean, and the standard deviation $\\sigma$ can be estimated from the data\n",
    "- interestingly, for the case of (simple) linear regression, the OLS estimate is also the so-called maximum likelihood estimator"
   ]
  },
  {
   "cell_type": "markdown",
   "metadata": {
    "slideshow": {
     "slide_type": "slide"
    }
   },
   "source": [
    "## Linear Regression: Example Data Set\n",
    "\n",
    "Let us now consider the data set 1.\n",
    "- it has 500 data points\n",
    "- let us assume that they represent weeks\n",
    "\n"
   ]
  },
  {
   "cell_type": "markdown",
   "metadata": {
    "slideshow": {
     "slide_type": "slide"
    }
   },
   "source": [
    "## Linear Regression for the  Example Data Set\n",
    "\n",
    "We can use the linear regression model from scikit-learn:\n"
   ]
  },
  {
   "cell_type": "code",
   "execution_count": null,
   "metadata": {
    "slideshow": {
     "slide_type": "-"
    }
   },
   "outputs": [],
   "source": [
    "from sklearn.linear_model import LinearRegression\n",
    "linear_model = LinearRegression()"
   ]
  },
  {
   "cell_type": "markdown",
   "metadata": {
    "slideshow": {
     "slide_type": "-"
    }
   },
   "source": [
    "- then our labels $y$ are the data points and\n",
    "- the (time) indexes of the array are the features $x$\n",
    "  - note that sklearn expects a feature matrix, thus we need to wrap the indexes into a matrix"
   ]
  },
  {
   "cell_type": "code",
   "execution_count": null,
   "metadata": {
    "slideshow": {
     "slide_type": "fragment"
    }
   },
   "outputs": [],
   "source": [
    "y_data1 = data1\n",
    "time_indices = np.arange(1,len(data1)+1)\n",
    "# note that we create a two-dimensinal array since sklearn expects this\n",
    "x_data1 = np.expand_dims(time_indices, axis=1)\n"
   ]
  },
  {
   "cell_type": "markdown",
   "metadata": {
    "slideshow": {
     "slide_type": "fragment"
    }
   },
   "source": [
    "Now, we can fit the model to the data"
   ]
  },
  {
   "cell_type": "code",
   "execution_count": null,
   "metadata": {
    "slideshow": {
     "slide_type": "-"
    }
   },
   "outputs": [],
   "source": [
    "from sklearn.linear_model import LinearRegression\n",
    "linear_model = LinearRegression()\n",
    "linear_model.fit(x_data1,y_data1)\n",
    "print (\"Intercept: \",linear_model.intercept_ )\n",
    "print (\"Coefficients: \",linear_model.coef_)"
   ]
  },
  {
   "cell_type": "markdown",
   "metadata": {
    "slideshow": {
     "slide_type": "fragment"
    }
   },
   "source": [
    "And use it for (point) prediction:"
   ]
  },
  {
   "cell_type": "code",
   "execution_count": null,
   "metadata": {
    "slideshow": {
     "slide_type": "-"
    }
   },
   "outputs": [],
   "source": [
    "linear_model.predict([[600]])"
   ]
  },
  {
   "cell_type": "markdown",
   "metadata": {
    "slideshow": {
     "slide_type": "slide"
    }
   },
   "source": [
    "## Generalized Linear Models\n",
    "\n",
    "(Standard) linear regression is a special case of **generalized linear models** where\n",
    "- residuals can stem from various distributions from the exponential family\n",
    "- link functions are used to connect the linear predictor to the expected value of the distribution\n",
    "- models are estimated based on **maximum likelikhood**"
   ]
  },
  {
   "cell_type": "markdown",
   "metadata": {
    "slideshow": {
     "slide_type": "fragment"
    }
   },
   "source": [
    "However, in Python, both scikit-learn and statsmodels provide GLMs, but:\n",
    "- **both do not provide a convenient way for obtaining the predictive distribution and sampling**\n",
    "- e.g. in form of distribution objects"
   ]
  },
  {
   "cell_type": "markdown",
   "metadata": {
    "slideshow": {
     "slide_type": "slide"
    }
   },
   "source": [
    "## NGBoost\n",
    "\n",
    "- so, it seems that probabilistic regression is a bit hard to do in Python.."
   ]
  },
  {
   "cell_type": "markdown",
   "metadata": {
    "slideshow": {
     "slide_type": "fragment"
    }
   },
   "source": [
    "...fortunately, however there  are some\n",
    "- **simple-to-use packages** that\n",
    "- **support probabilistic regression**\n",
    "- with a **scikit-learn-style API**\n",
    "\n",
    "For example,\n",
    "- **N**atural **G**radient **Boost**ing\n",
    "- provides probilistic prediction (classification **and** regression) with boosting ensembles\n",
    "- returns scipy-stats-like distribution objects"
   ]
  },
  {
   "cell_type": "markdown",
   "metadata": {
    "slideshow": {
     "slide_type": "slide"
    }
   },
   "source": [
    "## Using NGBoost for Probabilistic Regression: Model Fitting\n",
    "\n",
    "- use `NGBRegressor` as model object (just like any sklearn-Regressor)\n",
    "- specify the **distribution model** of the (conditional) distribution to predict:\n",
    "  - Normal,\n",
    "  - LogNormal or\n",
    "  - Exponential\n",
    "- call the `fit` function"
   ]
  },
  {
   "cell_type": "code",
   "execution_count": null,
   "metadata": {
    "slideshow": {
     "slide_type": "fragment"
    }
   },
   "outputs": [],
   "source": [
    "from ngboost import NGBRegressor, distns\n",
    "ngb_model = NGBRegressor(Dist=distns.Exponential).fit(x_data1, y_data1)"
   ]
  },
  {
   "cell_type": "markdown",
   "metadata": {
    "slideshow": {
     "slide_type": "slide"
    }
   },
   "source": [
    "## Using NGBoost for Probabilistic Regression: Prediction\n",
    "\n",
    "Given the Regressor-Object, we can call\n",
    "- the `predict`-methd to get a **point forecast**:\n",
    " "
   ]
  },
  {
   "cell_type": "code",
   "execution_count": null,
   "metadata": {
    "slideshow": {
     "slide_type": "-"
    }
   },
   "outputs": [],
   "source": [
    "x_value_to_predict = 600\n",
    "\n",
    "feature_matrix_for_prediction = [[x_value_to_predict]] # we need to wrap this into a matrix\n",
    "\n",
    "point_forecast = ngb_model.predict(feature_matrix_for_prediction)[0]\n",
    "\n",
    "point_forecast"
   ]
  },
  {
   "cell_type": "markdown",
   "metadata": {
    "slideshow": {
     "slide_type": "fragment"
    }
   },
   "source": [
    "- or the `pred_dist` to get a **probabilistic forecast**\n",
    "- returns a scipy-stats distribution object"
   ]
  },
  {
   "cell_type": "code",
   "execution_count": null,
   "metadata": {
    "scrolled": true,
    "slideshow": {
     "slide_type": "-"
    }
   },
   "outputs": [],
   "source": [
    "distribution_forecast = ngb_model.pred_dist(feature_matrix_for_prediction)[0]\n",
    "\n",
    "fig, (ax1,ax2) = plt.subplots(1, 2, figsize=(12, 4.3), constrained_layout=True)\n",
    "\n",
    "xx = np.linspace(1E-6, 25, 1000)\n",
    "ax1.plot(xx, distribution_forecast.pdf(xx), linewidth=2, color='b')\n",
    "ax1.set_title('Probability Density Function')\n",
    "ax2.plot(xx, distribution_forecast.cdf(xx), linewidth=2, color='b')\n",
    "ax2.set_title('Cumulative Distribution Function')\n",
    "\n",
    "\n",
    "plt.show()\n"
   ]
  },
  {
   "cell_type": "markdown",
   "metadata": {
    "slideshow": {
     "slide_type": "slide"
    }
   },
   "source": [
    "## Assessing the Model using Log Likelihood\n",
    "\n",
    "One way to assess the goodness of fit is to use the so-called *negative log likelihood*.\n",
    "\n",
    "- the smaller the negative log likelihood, the better the fit."
   ]
  },
  {
   "cell_type": "code",
   "execution_count": null,
   "metadata": {
    "slideshow": {
     "slide_type": "-"
    }
   },
   "outputs": [],
   "source": [
    "pred_dists_original_data = ngb_model.pred_dist( x_data1 )\n",
    "\n",
    "negative_ll = -pred_dists_original_data.logpdf(y_data1).mean()\n",
    "print('Average Negative Log Likelihood', negative_ll)"
   ]
  },
  {
   "cell_type": "markdown",
   "metadata": {
    "slideshow": {
     "slide_type": "fragment"
    }
   },
   "source": [
    "**Excercise:** Change the distribution in NGBoost to Normal and see if the fit improves!"
   ]
  },
  {
   "cell_type": "markdown",
   "metadata": {
    "slideshow": {
     "slide_type": "slide"
    }
   },
   "source": [
    "## Summary\n",
    "\n",
    "In this meeting, we learned how to obtain probability distributions from data:\n",
    "\n",
    "- fitting distributions to simple homogeneous i.i.d. data\n",
    "- simple approaches for checking the i.i.d. assumptions\n",
    "- using probabilistic machine learning to obtain conditional distributions in more complex settings\n",
    "\n",
    "Next time, we will deal with distributions resulting from decision-making under uncertainty!"
   ]
  }
 ],
 "metadata": {
  "celltoolbar": "Slideshow",
  "kernelspec": {
   "display_name": "Python [conda env:shift_scheduling]",
   "language": "python",
   "name": "conda-env-shift_scheduling-py"
  },
  "language_info": {
   "codemirror_mode": {
    "name": "ipython",
    "version": 3
   },
   "file_extension": ".py",
   "mimetype": "text/x-python",
   "name": "python",
   "nbconvert_exporter": "python",
   "pygments_lexer": "ipython3",
   "version": "3.9.10"
  }
 },
 "nbformat": 4,
 "nbformat_minor": 4
}
